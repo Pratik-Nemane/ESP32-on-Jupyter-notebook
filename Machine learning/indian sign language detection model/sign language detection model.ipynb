{
 "cells": [
  {
   "cell_type": "markdown",
   "id": "FSNpz3TzcS0H",
   "metadata": {
    "id": "FSNpz3TzcS0H"
   },
   "source": [
    "## Imports\n"
   ]
  },
  {
   "cell_type": "markdown",
   "id": "XZKW9xJT75wW",
   "metadata": {
    "id": "XZKW9xJT75wW"
   },
   "source": [
    "### Imports  library for this project"
   ]
  },
  {
   "cell_type": "code",
   "execution_count": 96,
   "id": "a305e00a-1919-4ff3-ae75-fb86a50075b7",
   "metadata": {
    "executionInfo": {
     "elapsed": 518,
     "status": "ok",
     "timestamp": 1720258402118,
     "user": {
      "displayName": "Harsh Raj",
      "userId": "13475918194215025488"
     },
     "user_tz": -330
    },
    "id": "a305e00a-1919-4ff3-ae75-fb86a50075b7"
   },
   "outputs": [],
   "source": [
    "import os\n",
    "import numpy as np\n",
    "import pandas as pd\n",
    "import tensorflow as tf\n",
    "from tensorflow.keras.models import Sequential\n",
    "from tensorflow.keras.layers import Conv2D, MaxPooling2D, Flatten, Dense, Dropout\n",
    "from tensorflow.keras.optimizers import Adam\n",
    "from tensorflow.keras.callbacks import ReduceLROnPlateau\n",
    "from tensorflow.keras.preprocessing.image import ImageDataGenerator\n",
    "from tensorflow.keras.models import load_model\n",
    "from sklearn.preprocessing import OneHotEncoder"
   ]
  },
  {
   "cell_type": "markdown",
   "id": "vVJPcHat9Bm8",
   "metadata": {
    "id": "vVJPcHat9Bm8"
   },
   "source": [
    "### Connecting the drive to to notebook by running this code."
   ]
  },
  {
   "cell_type": "code",
   "execution_count": 97,
   "id": "WP4EFgfqvpkG",
   "metadata": {
    "colab": {
     "base_uri": "https://localhost:8080/"
    },
    "executionInfo": {
     "elapsed": 4182,
     "status": "ok",
     "timestamp": 1720258407248,
     "user": {
      "displayName": "Harsh Raj",
      "userId": "13475918194215025488"
     },
     "user_tz": -330
    },
    "id": "WP4EFgfqvpkG",
    "outputId": "b306c0f7-5d31-41bd-a373-006b005bd280"
   },
   "outputs": [
    {
     "name": "stdout",
     "output_type": "stream",
     "text": [
      "Drive already mounted at /content/drive; to attempt to forcibly remount, call drive.mount(\"/content/drive\", force_remount=True).\n"
     ]
    }
   ],
   "source": [
    "from google.colab import drive\n",
    "drive.mount('/content/drive')"
   ]
  },
  {
   "cell_type": "markdown",
   "id": "YjTEsSBJbZL6",
   "metadata": {
    "id": "YjTEsSBJbZL6"
   },
   "source": [
    "## Data Collection and Processing\n"
   ]
  },
  {
   "cell_type": "markdown",
   "id": "hz9T9Is30LLK",
   "metadata": {
    "id": "hz9T9Is30LLK"
   },
   "source": [
    "### Data Collection\n"
   ]
  },
  {
   "cell_type": "markdown",
   "id": "v50klVU50T4P",
   "metadata": {
    "id": "v50klVU50T4P"
   },
   "source": [
    "\n",
    "\n",
    "```\n",
    "import cv2\n",
    "import os\n",
    "import time\n",
    "\n",
    "def capture_images_from_esp32(class_name, esp32_url, capture_duration=20, save_dir='/home/harsh/Desktop/Task2/new_data'):\n",
    "    # Create the directory for the class if it doesn't exist\n",
    "    class_dir = os.path.join(save_dir, class_name)\n",
    "    os.makedirs(class_dir, exist_ok=True)\n",
    "\n",
    "    # Start capturing images from ESP32-CAM\n",
    "    cap = cv2.VideoCapture(esp32_url)\n",
    "    if not cap.isOpened():\n",
    "        print(f\"Failed to open video stream at {esp32_url}\")\n",
    "        return\n",
    "\n",
    "    start_time = time.time()\n",
    "    img_count = 0\n",
    "\n",
    "    while int(time.time() - start_time) < capture_duration:\n",
    "        ret, frame = cap.read()\n",
    "        if not ret:\n",
    "            print(\"Failed to capture image from ESP32-CAM\")\n",
    "            break\n",
    "\n",
    "        # Save the frame as an image file\n",
    "        img_path = os.path.join(class_dir, f\"{img_count}.jpg\")\n",
    "        cv2.imwrite(img_path, frame)\n",
    "        img_count += 1\n",
    "\n",
    "        # Display the frame (optional)\n",
    "        cv2.imshow('Capturing', frame)\n",
    "\n",
    "        # Press 'q' to quit early\n",
    "        if cv2.waitKey(1) & 0xFF == ord('q'):\n",
    "            break\n",
    "\n",
    "    # Release the capture and close any OpenCV windows\n",
    "    cap.release()\n",
    "    cv2.destroyAllWindows()\n",
    "    print(f\"Captured {img_count} images for class '{class_name}'.\")\n",
    "\n",
    "if __name__ == \"__main__\":\n",
    "    esp32_url = 'http://192.168.144.123:81/stream'  # Replace with your ESP32-CAM stream URL\n",
    "    print(f\"Trying to open video stream at {esp32_url}\")\n",
    "\n",
    "    while True:\n",
    "        class_name = input(\"Which class are you going to capture? (leave empty to exit) \")\n",
    "        if not class_name:\n",
    "            print(\"Exiting...\")\n",
    "            break\n",
    "\n",
    "        print(f\"Starting capture for class: {class_name}\")\n",
    "        capture_images_from_esp32(class_name, esp32_url)\n",
    "        print(f\"Finished capturing images for class: {class_name}\")\n",
    "\n",
    "```\n",
    "\n"
   ]
  },
  {
   "cell_type": "markdown",
   "id": "_ydKy7e_8cfu",
   "metadata": {
    "id": "_ydKy7e_8cfu"
   },
   "source": [
    "### Storing collected data into a csv file"
   ]
  },
  {
   "cell_type": "code",
   "execution_count": 98,
   "id": "S2ONwxNS8wiq",
   "metadata": {
    "executionInfo": {
     "elapsed": 92733,
     "status": "ok",
     "timestamp": 1720258499974,
     "user": {
      "displayName": "Harsh Raj",
      "userId": "13475918194215025488"
     },
     "user_tz": -330
    },
    "id": "S2ONwxNS8wiq"
   },
   "outputs": [],
   "source": [
    "from PIL import Image\n",
    "from sklearn.model_selection import train_test_split\n",
    "\n",
    "\n",
    "# this code for store the collected data into a csv file\n",
    "def image_to_csv(image_folder_path, train_csv_file_path, test_csv_file_path, test_size=0.2, random_state=42):\n",
    "    rows = []\n",
    "    labels = [folder for folder in os.listdir(image_folder_path) if os.path.isdir(os.path.join(image_folder_path, folder))]\n",
    "\n",
    "    for label in labels:\n",
    "        label_folder_path = os.path.join(image_folder_path, label)\n",
    "\n",
    "        for image_name in os.listdir(label_folder_path):\n",
    "            if image_name.endswith(('.png', '.jpg', '.jpeg', '.bmp', '.gif')):\n",
    "                image_path = os.path.join(label_folder_path, image_name)\n",
    "                image = Image.open(image_path)\n",
    "                image = image.convert('L')\n",
    "                image = image.resize((320, 240))  # Resize images to 320x240\n",
    "                image_array = np.array(image)\n",
    "                image_flattened = image_array.flatten().tolist()\n",
    "                row = [label] + image_flattened\n",
    "                rows.append(row)\n",
    "\n",
    "    df = pd.DataFrame(rows)\n",
    "    column_names = ['label'] + ['pixel_' + str(i) for i in range(len(rows[0]) - 1)]\n",
    "    df.columns = column_names\n",
    "    train_df, test_df = train_test_split(df, test_size=test_size, random_state=random_state, stratify=df['label'])\n",
    "    train_df.to_csv(train_csv_file_path, index=False)\n",
    "    test_df.to_csv(test_csv_file_path, index=False)\n",
    "\n",
    "image_folder_path = '/content/drive/MyDrive/Last_Task/dataset'\n",
    "train_csv_file_path = 'train.csv'\n",
    "test_csv_file_path = 'test.csv'\n",
    "image_to_csv(image_folder_path, train_csv_file_path, test_csv_file_path)\n"
   ]
  },
  {
   "cell_type": "markdown",
   "id": "uOhwyEKbUL5U",
   "metadata": {
    "id": "uOhwyEKbUL5U"
   },
   "source": [
    "### Data Loading\n"
   ]
  },
  {
   "cell_type": "markdown",
   "id": "wTnB8tco9T49",
   "metadata": {
    "id": "wTnB8tco9T49"
   },
   "source": [
    "Now reading our created csv file from the drive, replace this with your address of csv file."
   ]
  },
  {
   "cell_type": "code",
   "execution_count": 99,
   "id": "d91ebdeb-d482-49ae-a86d-e96dfff6ad73",
   "metadata": {
    "executionInfo": {
     "elapsed": 31,
     "status": "ok",
     "timestamp": 1720258499975,
     "user": {
      "displayName": "Harsh Raj",
      "userId": "13475918194215025488"
     },
     "user_tz": -330
    },
    "id": "d91ebdeb-d482-49ae-a86d-e96dfff6ad73"
   },
   "outputs": [],
   "source": [
    "train_df = pd.read_csv(\"/content/drive/MyDrive/Last_Task/data/train.csv\")\n",
    "test_df = pd.read_csv(\"/content/drive/MyDrive/Last_Task/data/test.csv\")"
   ]
  },
  {
   "cell_type": "code",
   "execution_count": 100,
   "id": "413d5d1c-0103-4152-bcbc-11de33f1ddef",
   "metadata": {
    "executionInfo": {
     "elapsed": 29,
     "status": "ok",
     "timestamp": 1720258499975,
     "user": {
      "displayName": "Harsh Raj",
      "userId": "13475918194215025488"
     },
     "user_tz": -330
    },
    "id": "413d5d1c-0103-4152-bcbc-11de33f1ddef"
   },
   "outputs": [],
   "source": [
    "test = pd.read_csv(\"/content/drive/MyDrive/Last_Task/data/test.csv\")\n",
    "y = test['label']"
   ]
  },
  {
   "cell_type": "markdown",
   "id": "rxXoc0ew9kZY",
   "metadata": {
    "id": "rxXoc0ew9kZY"
   },
   "source": [
    "Function which converts the labels into a integer like:\n",
    "\n",
    "\n",
    "*   a ---> 1\n",
    "*   b ---> 2\n",
    "*   c ---> 3\n",
    "\n",
    "and so on...\n",
    "\n"
   ]
  },
  {
   "cell_type": "code",
   "execution_count": 101,
   "id": "EuiHSkHoL5wX",
   "metadata": {
    "executionInfo": {
     "elapsed": 28,
     "status": "ok",
     "timestamp": 1720258499975,
     "user": {
      "displayName": "Harsh Raj",
      "userId": "13475918194215025488"
     },
     "user_tz": -330
    },
    "id": "EuiHSkHoL5wX"
   },
   "outputs": [],
   "source": [
    "def change_label(row):\n",
    "    label = row['label']\n",
    "    # Determine weather condition\n",
    "    if label == 'a':\n",
    "        change = 1 # a\n",
    "    elif label == 'b':\n",
    "        change = 2 # b\n",
    "    elif label == 'c':\n",
    "        change = 3 # c\n",
    "    elif label == 'd':\n",
    "        change = 4 # d\n",
    "    elif label == 'empty':\n",
    "        change = 0 # empty\n",
    "\n",
    "    return change"
   ]
  },
  {
   "cell_type": "markdown",
   "id": "b7Y30M0L-Bf2",
   "metadata": {
    "id": "b7Y30M0L-Bf2"
   },
   "source": [
    "Now we have to apply the functions previously made to convert the labels from string to an integer value which will be helpful for our model development."
   ]
  },
  {
   "cell_type": "code",
   "execution_count": 102,
   "id": "l7pGJ9z7L_Nc",
   "metadata": {
    "executionInfo": {
     "elapsed": 28,
     "status": "ok",
     "timestamp": 1720258499975,
     "user": {
      "displayName": "Harsh Raj",
      "userId": "13475918194215025488"
     },
     "user_tz": -330
    },
    "id": "l7pGJ9z7L_Nc"
   },
   "outputs": [],
   "source": [
    "# Apply the function to each row of the DataFrame\n",
    "train_df['label'] = train_df.apply(change_label, axis=1)\n",
    "test_df['label'] = test_df.apply(change_label, axis=1)"
   ]
  },
  {
   "cell_type": "markdown",
   "id": "jbJe1iatH1Ul",
   "metadata": {
    "id": "jbJe1iatH1Ul"
   },
   "source": [
    "Now defining y_train and y_test for developing our model as labels"
   ]
  },
  {
   "cell_type": "code",
   "execution_count": 103,
   "id": "3f5a1427-be96-407a-97ac-a3f3e83323c9",
   "metadata": {
    "executionInfo": {
     "elapsed": 27,
     "status": "ok",
     "timestamp": 1720258499975,
     "user": {
      "displayName": "Harsh Raj",
      "userId": "13475918194215025488"
     },
     "user_tz": -330
    },
    "id": "3f5a1427-be96-407a-97ac-a3f3e83323c9"
   },
   "outputs": [],
   "source": [
    "y_train = train_df['label']\n",
    "y_test = test_df['label']\n",
    "y_debug = y_train[0:10]\n",
    "del train_df['label']\n",
    "del test_df['label']"
   ]
  },
  {
   "cell_type": "code",
   "execution_count": 104,
   "id": "LkjBrZQFMQeF",
   "metadata": {
    "colab": {
     "base_uri": "https://localhost:8080/"
    },
    "executionInfo": {
     "elapsed": 28,
     "status": "ok",
     "timestamp": 1720258499976,
     "user": {
      "displayName": "Harsh Raj",
      "userId": "13475918194215025488"
     },
     "user_tz": -330
    },
    "id": "LkjBrZQFMQeF",
    "outputId": "57425fc7-dc57-4092-8e1d-e76070ce6620"
   },
   "outputs": [
    {
     "name": "stdout",
     "output_type": "stream",
     "text": [
      "0      1\n",
      "1      4\n",
      "2      0\n",
      "3      1\n",
      "4      2\n",
      "      ..\n",
      "441    3\n",
      "442    0\n",
      "443    0\n",
      "444    3\n",
      "445    0\n",
      "Name: label, Length: 446, dtype: int64\n"
     ]
    }
   ],
   "source": [
    "print(y_train) # Prints the y_train all labels"
   ]
  },
  {
   "cell_type": "code",
   "execution_count": 105,
   "id": "PS-K7T_7MQYB",
   "metadata": {
    "colab": {
     "base_uri": "https://localhost:8080/"
    },
    "executionInfo": {
     "elapsed": 27,
     "status": "ok",
     "timestamp": 1720258499976,
     "user": {
      "displayName": "Harsh Raj",
      "userId": "13475918194215025488"
     },
     "user_tz": -330
    },
    "id": "PS-K7T_7MQYB",
    "outputId": "7ebd241d-d265-4e27-9019-17c36e034117"
   },
   "outputs": [
    {
     "data": {
      "text/plain": [
       "(446, 1600)"
      ]
     },
     "execution_count": 105,
     "metadata": {},
     "output_type": "execute_result"
    }
   ],
   "source": [
    "train_df.shape # prints the shape of the train_df"
   ]
  },
  {
   "cell_type": "markdown",
   "id": "JnG-ozrJGoJi",
   "metadata": {
    "id": "JnG-ozrJGoJi"
   },
   "source": [
    "The code snippet provided utilizes the LabelBinarizer class from the sklearn.preprocessing module in the scikit-learn library. This class is used to convert categorical labels into a binary (one-hot encoded) format"
   ]
  },
  {
   "cell_type": "code",
   "execution_count": 106,
   "id": "7c407bdf-8348-4526-ae09-fa5434787d54",
   "metadata": {
    "executionInfo": {
     "elapsed": 26,
     "status": "ok",
     "timestamp": 1720258499976,
     "user": {
      "displayName": "Harsh Raj",
      "userId": "13475918194215025488"
     },
     "user_tz": -330
    },
    "id": "7c407bdf-8348-4526-ae09-fa5434787d54"
   },
   "outputs": [],
   "source": [
    "from sklearn.preprocessing import LabelBinarizer # Import the LabelBinarizer"
   ]
  },
  {
   "cell_type": "code",
   "execution_count": 107,
   "id": "kr2T69NDHL11",
   "metadata": {
    "executionInfo": {
     "elapsed": 26,
     "status": "ok",
     "timestamp": 1720258499976,
     "user": {
      "displayName": "Harsh Raj",
      "userId": "13475918194215025488"
     },
     "user_tz": -330
    },
    "id": "kr2T69NDHL11"
   },
   "outputs": [],
   "source": [
    "label_binarizer = LabelBinarizer() # Create an instance of LabelBinarizer"
   ]
  },
  {
   "cell_type": "code",
   "execution_count": 108,
   "id": "5s3P09Z0HGz_",
   "metadata": {
    "executionInfo": {
     "elapsed": 26,
     "status": "ok",
     "timestamp": 1720258499976,
     "user": {
      "displayName": "Harsh Raj",
      "userId": "13475918194215025488"
     },
     "user_tz": -330
    },
    "id": "5s3P09Z0HGz_"
   },
   "outputs": [],
   "source": [
    "# Fit on the training data and transform both train and test data\n",
    "y_train = label_binarizer.fit_transform(y_train) # Fit the LabelBinarizer on the y_train data and transform it\n",
    "y_test = label_binarizer.fit_transform(y_test) # Fit the LabelBinarizer on the y_test data and transform it"
   ]
  },
  {
   "cell_type": "markdown",
   "id": "hn5Jd20oHhnC",
   "metadata": {
    "id": "hn5Jd20oHhnC"
   },
   "source": [
    "Now defining the x_train and x_test for development of our model."
   ]
  },
  {
   "cell_type": "code",
   "execution_count": 109,
   "id": "a0389c80-86b7-4ccc-977f-c4368a397f34",
   "metadata": {
    "executionInfo": {
     "elapsed": 25,
     "status": "ok",
     "timestamp": 1720258499976,
     "user": {
      "displayName": "Harsh Raj",
      "userId": "13475918194215025488"
     },
     "user_tz": -330
    },
    "id": "a0389c80-86b7-4ccc-977f-c4368a397f34"
   },
   "outputs": [],
   "source": [
    "x_train = train_df.values\n",
    "x_test = test_df.values"
   ]
  },
  {
   "cell_type": "code",
   "execution_count": 110,
   "id": "d5952c76-018c-4413-b21e-72ccf3f01509",
   "metadata": {
    "executionInfo": {
     "elapsed": 24,
     "status": "ok",
     "timestamp": 1720258499976,
     "user": {
      "displayName": "Harsh Raj",
      "userId": "13475918194215025488"
     },
     "user_tz": -330
    },
    "id": "d5952c76-018c-4413-b21e-72ccf3f01509"
   },
   "outputs": [],
   "source": [
    "# Convert y_train and y_test to numpy arrays if they are pandas Series\n",
    "if isinstance(y_train, pd.Series):\n",
    "    y_train = y_train.to_numpy()\n",
    "if isinstance(y_test, pd.Series):\n",
    "    y_test = y_test.to_numpy()"
   ]
  },
  {
   "cell_type": "code",
   "execution_count": 111,
   "id": "691db660-ddb2-4efd-89ab-7a7a11cb17fe",
   "metadata": {
    "executionInfo": {
     "elapsed": 25,
     "status": "ok",
     "timestamp": 1720258499977,
     "user": {
      "displayName": "Harsh Raj",
      "userId": "13475918194215025488"
     },
     "user_tz": -330
    },
    "id": "691db660-ddb2-4efd-89ab-7a7a11cb17fe"
   },
   "outputs": [],
   "source": [
    "# One-hot encode the labels\n",
    "encoder = OneHotEncoder(sparse=False)"
   ]
  },
  {
   "cell_type": "code",
   "execution_count": 112,
   "id": "c7b30940-6df6-415b-854f-399bca0db072",
   "metadata": {
    "colab": {
     "base_uri": "https://localhost:8080/"
    },
    "executionInfo": {
     "elapsed": 24,
     "status": "ok",
     "timestamp": 1720258499977,
     "user": {
      "displayName": "Harsh Raj",
      "userId": "13475918194215025488"
     },
     "user_tz": -330
    },
    "id": "c7b30940-6df6-415b-854f-399bca0db072",
    "outputId": "7ef4a948-e76d-4868-dfa5-eee7ef4ae97c"
   },
   "outputs": [
    {
     "name": "stderr",
     "output_type": "stream",
     "text": [
      "/usr/local/lib/python3.10/dist-packages/sklearn/preprocessing/_encoders.py:868: FutureWarning: `sparse` was renamed to `sparse_output` in version 1.2 and will be removed in 1.4. `sparse_output` is ignored unless you leave `sparse` to its default value.\n",
      "  warnings.warn(\n"
     ]
    }
   ],
   "source": [
    "# Reshape y_train and y_test for encoding\n",
    "y_train_flat = y_train.reshape(-1, 1)\n",
    "y_test_flat = y_test.reshape(-1, 1)\n",
    "\n",
    "y_train_encoded = encoder.fit_transform(y_train_flat)\n",
    "y_test_encoded = encoder.transform(y_test_flat)"
   ]
  },
  {
   "cell_type": "code",
   "execution_count": 113,
   "id": "fb7312b3-0a36-40d8-8dcc-9c054d0950a5",
   "metadata": {
    "executionInfo": {
     "elapsed": 24,
     "status": "ok",
     "timestamp": 1720258499977,
     "user": {
      "displayName": "Harsh Raj",
      "userId": "13475918194215025488"
     },
     "user_tz": -330
    },
    "id": "fb7312b3-0a36-40d8-8dcc-9c054d0950a5"
   },
   "outputs": [],
   "source": [
    "# Reshape x_train and x_test to 4D tensors if they are not already\n",
    "if len(x_train.shape) == 2:  # If the shape is (num_samples, height*width)\n",
    "    x_train = x_train.reshape(x_train.shape[0], 40, 40, 1)\n",
    "if len(x_test.shape) == 2:  # If the shape is (num_samples, height*width)\n",
    "    x_test = x_test.reshape(x_test.shape[0], 40, 40, 1)"
   ]
  },
  {
   "cell_type": "code",
   "execution_count": 114,
   "id": "781a9580-702c-429d-9094-05ba2dcc1da4",
   "metadata": {
    "colab": {
     "base_uri": "https://localhost:8080/"
    },
    "executionInfo": {
     "elapsed": 23,
     "status": "ok",
     "timestamp": 1720258499977,
     "user": {
      "displayName": "Harsh Raj",
      "userId": "13475918194215025488"
     },
     "user_tz": -330
    },
    "id": "781a9580-702c-429d-9094-05ba2dcc1da4",
    "outputId": "c610fccb-7593-443e-aa7d-930aee7a114e"
   },
   "outputs": [
    {
     "name": "stdout",
     "output_type": "stream",
     "text": [
      "Shape of y_train_encoded: (2230, 2)\n",
      "Shape of y_test_encoded: (560, 2)\n",
      "Shape of x_train: (446, 40, 40, 1)\n",
      "Shape of x_test: (112, 40, 40, 1)\n"
     ]
    }
   ],
   "source": [
    "# This code will print the shape of all the data for developing the model\n",
    "print(\"Shape of y_train_encoded:\", y_train_encoded.shape)\n",
    "print(\"Shape of y_test_encoded:\", y_test_encoded.shape)\n",
    "print(\"Shape of x_train:\", x_train.shape)\n",
    "print(\"Shape of x_test:\", x_test.shape)"
   ]
  },
  {
   "cell_type": "code",
   "execution_count": 115,
   "id": "5de06008-e463-4713-a938-4770102bf68d",
   "metadata": {
    "colab": {
     "base_uri": "https://localhost:8080/"
    },
    "executionInfo": {
     "elapsed": 20,
     "status": "ok",
     "timestamp": 1720258499977,
     "user": {
      "displayName": "Harsh Raj",
      "userId": "13475918194215025488"
     },
     "user_tz": -330
    },
    "id": "5de06008-e463-4713-a938-4770102bf68d",
    "outputId": "5bd4c539-f8f5-4eab-87cb-2d3082b834fc"
   },
   "outputs": [
    {
     "name": "stdout",
     "output_type": "stream",
     "text": [
      "Shape of x_train: (446, 40, 40, 1)\n",
      "Shape of the reshaped array: (446, 40, 40, 1)\n"
     ]
    }
   ],
   "source": [
    "# Reshaping the array if not in desired shape\n",
    "print(\"Shape of x_train:\", x_train.shape)\n",
    "try:\n",
    "    reshaped_array = x_train.reshape(-1, 40, 40, 1)\n",
    "    print(\"Shape of the reshaped array:\", reshaped_array.shape)\n",
    "except ValueError as e:\n",
    "    print(\"Error:\", e)"
   ]
  },
  {
   "cell_type": "markdown",
   "id": "3rFpGMalIbFx",
   "metadata": {
    "id": "3rFpGMalIbFx"
   },
   "source": [
    "### Debugging the data before model development."
   ]
  },
  {
   "cell_type": "code",
   "execution_count": 116,
   "id": "fe8b9384-fa80-431f-8f15-7c51b3e6df2a",
   "metadata": {
    "colab": {
     "base_uri": "https://localhost:8080/"
    },
    "executionInfo": {
     "elapsed": 19,
     "status": "ok",
     "timestamp": 1720258499977,
     "user": {
      "displayName": "Harsh Raj",
      "userId": "13475918194215025488"
     },
     "user_tz": -330
    },
    "id": "fe8b9384-fa80-431f-8f15-7c51b3e6df2a",
    "outputId": "041a6aa4-0e40-46a5-9b89-d74a1d406227"
   },
   "outputs": [
    {
     "data": {
      "text/plain": [
       "(1, 40, 40, 1)"
      ]
     },
     "execution_count": 116,
     "metadata": {},
     "output_type": "execute_result"
    }
   ],
   "source": [
    "x_tmp = x_train[0]\n",
    "x_tmp=x_tmp.reshape(1,40,40,1)\n",
    "x_tmp = np.array(x_tmp)\n",
    "x_tmp.shape"
   ]
  },
  {
   "cell_type": "code",
   "execution_count": 117,
   "id": "f1ca994e-ae00-4797-83c2-b40592b7ab19",
   "metadata": {
    "colab": {
     "base_uri": "https://localhost:8080/"
    },
    "executionInfo": {
     "elapsed": 18,
     "status": "ok",
     "timestamp": 1720258499977,
     "user": {
      "displayName": "Harsh Raj",
      "userId": "13475918194215025488"
     },
     "user_tz": -330
    },
    "id": "f1ca994e-ae00-4797-83c2-b40592b7ab19",
    "outputId": "5bc42531-0cad-4422-cbe7-7f084ae462bf"
   },
   "outputs": [
    {
     "data": {
      "text/plain": [
       "(10,)"
      ]
     },
     "execution_count": 117,
     "metadata": {},
     "output_type": "execute_result"
    }
   ],
   "source": [
    "np.transpose(y_debug).shape"
   ]
  },
  {
   "cell_type": "code",
   "execution_count": 118,
   "id": "97165030-6dbb-4295-8374-afbc3d82c4cd",
   "metadata": {
    "executionInfo": {
     "elapsed": 18,
     "status": "ok",
     "timestamp": 1720258499978,
     "user": {
      "displayName": "Harsh Raj",
      "userId": "13475918194215025488"
     },
     "user_tz": -330
    },
    "id": "97165030-6dbb-4295-8374-afbc3d82c4cd"
   },
   "outputs": [],
   "source": [
    "# I will use this for debuggin on the ESP32\n",
    "x_debug = (train_df.values)[0:10]\n",
    "csv_x_debug = 'csv_x.csv'\n",
    "csv_y_debug = 'csv_y.csv'\n",
    "y_db2 = np.array(y_debug).reshape(1,-1)\n",
    "# Write data to the CSV file\n",
    "np.savetxt(csv_x_debug, x_debug, delimiter=',', fmt='%s')\n",
    "np.savetxt(csv_y_debug, y_db2, delimiter=',', fmt='%s')"
   ]
  },
  {
   "cell_type": "markdown",
   "id": "fSkPjjfwIu6k",
   "metadata": {
    "id": "fSkPjjfwIu6k"
   },
   "source": [
    "### Some more data processing before model development"
   ]
  },
  {
   "cell_type": "code",
   "execution_count": 119,
   "id": "b65ab5df-04ef-44f6-ba11-92b1d9cc45dc",
   "metadata": {
    "executionInfo": {
     "elapsed": 18,
     "status": "ok",
     "timestamp": 1720258499978,
     "user": {
      "displayName": "Harsh Raj",
      "userId": "13475918194215025488"
     },
     "user_tz": -330
    },
    "id": "b65ab5df-04ef-44f6-ba11-92b1d9cc45dc"
   },
   "outputs": [],
   "source": [
    "# Normalize the data\n",
    "x_train = (x_train  / 127.5) - 1.0\n",
    "x_test = (x_test/127.5)-1.0# - 128 # / 255"
   ]
  },
  {
   "cell_type": "code",
   "execution_count": 120,
   "id": "4655aa58-6368-49af-ad14-7b657b121bd9",
   "metadata": {
    "colab": {
     "base_uri": "https://localhost:8080/"
    },
    "executionInfo": {
     "elapsed": 18,
     "status": "ok",
     "timestamp": 1720258499978,
     "user": {
      "displayName": "Harsh Raj",
      "userId": "13475918194215025488"
     },
     "user_tz": -330
    },
    "id": "4655aa58-6368-49af-ad14-7b657b121bd9",
    "outputId": "8413a4b2-50fd-4209-fec4-298658932595"
   },
   "outputs": [
    {
     "name": "stdout",
     "output_type": "stream",
     "text": [
      "(446, 40, 40, 1)\n",
      "713600\n"
     ]
    }
   ],
   "source": [
    "print(x_train.shape)\n",
    "print(x_train.size)"
   ]
  },
  {
   "cell_type": "code",
   "execution_count": 121,
   "id": "3e2acdee-05b7-430d-9385-b7909513a1e6",
   "metadata": {
    "colab": {
     "base_uri": "https://localhost:8080/"
    },
    "executionInfo": {
     "elapsed": 18,
     "status": "ok",
     "timestamp": 1720258499979,
     "user": {
      "displayName": "Harsh Raj",
      "userId": "13475918194215025488"
     },
     "user_tz": -330
    },
    "id": "3e2acdee-05b7-430d-9385-b7909513a1e6",
    "outputId": "a46f1e79-001b-4272-be56-ba50da30b7ca"
   },
   "outputs": [
    {
     "name": "stdout",
     "output_type": "stream",
     "text": [
      "(112, 40, 40, 1)\n",
      "179200\n"
     ]
    }
   ],
   "source": [
    "print(x_test.shape)\n",
    "print(x_test.size)"
   ]
  },
  {
   "cell_type": "code",
   "execution_count": 122,
   "id": "963d8b1a-a50e-408a-820b-c9304dc171d4",
   "metadata": {
    "executionInfo": {
     "elapsed": 17,
     "status": "ok",
     "timestamp": 1720258499979,
     "user": {
      "displayName": "Harsh Raj",
      "userId": "13475918194215025488"
     },
     "user_tz": -330
    },
    "id": "963d8b1a-a50e-408a-820b-c9304dc171d4"
   },
   "outputs": [],
   "source": [
    "x_train = x_train.reshape(-1, 40, 40, 1)\n",
    "x_test = x_test.reshape(-1, 40, 40, 1)"
   ]
  },
  {
   "cell_type": "code",
   "execution_count": 123,
   "id": "0d22c7ee-436e-4523-83d2-65444ab14e0a",
   "metadata": {
    "colab": {
     "base_uri": "https://localhost:8080/"
    },
    "executionInfo": {
     "elapsed": 763,
     "status": "ok",
     "timestamp": 1720258500725,
     "user": {
      "displayName": "Harsh Raj",
      "userId": "13475918194215025488"
     },
     "user_tz": -330
    },
    "id": "0d22c7ee-436e-4523-83d2-65444ab14e0a",
    "outputId": "b2df223a-ee73-4978-cd63-f7bc5c5208a2"
   },
   "outputs": [
    {
     "data": {
      "text/plain": [
       "(446, 40, 40, 1)"
      ]
     },
     "execution_count": 123,
     "metadata": {},
     "output_type": "execute_result"
    }
   ],
   "source": [
    "x_train.shape"
   ]
  },
  {
   "cell_type": "markdown",
   "id": "2GeQm5sNI5Y_",
   "metadata": {
    "id": "2GeQm5sNI5Y_"
   },
   "source": [
    "### Preview of our data"
   ]
  },
  {
   "cell_type": "code",
   "execution_count": 124,
   "id": "a7cd525e-454d-4c94-930d-7a2426d94f6d",
   "metadata": {
    "colab": {
     "base_uri": "https://localhost:8080/",
     "height": 372
    },
    "executionInfo": {
     "elapsed": 2258,
     "status": "ok",
     "timestamp": 1720258502221,
     "user": {
      "displayName": "Harsh Raj",
      "userId": "13475918194215025488"
     },
     "user_tz": -330
    },
    "id": "a7cd525e-454d-4c94-930d-7a2426d94f6d",
    "outputId": "52921552-9001-4ed7-eeac-b4756ce86cd4"
   },
   "outputs": [
    {
     "data": {
      "image/png": "[encoded data removed]",
      "text/plain": [
       "<Figure size 1000x1000 with 10 Axes>"
      ]
     },
     "metadata": {},
     "output_type": "display_data"
    }
   ],
   "source": [
    "import matplotlib.pyplot as plt\n",
    "f, ax = plt.subplots(2,5)\n",
    "f.set_size_inches(10, 10)\n",
    "k = 0\n",
    "for i in range(2):\n",
    "    for j in range(5):\n",
    "        ax[i,j].imshow(x_train[k].reshape(40, 40) , cmap = \"gray\")\n",
    "        k += 1\n",
    "    plt.tight_layout()"
   ]
  },
  {
   "cell_type": "code",
   "execution_count": 125,
   "id": "29827d65-9928-40a3-aefb-6345386ed614",
   "metadata": {
    "colab": {
     "base_uri": "https://localhost:8080/"
    },
    "executionInfo": {
     "elapsed": 28,
     "status": "ok",
     "timestamp": 1720258502221,
     "user": {
      "displayName": "Harsh Raj",
      "userId": "13475918194215025488"
     },
     "user_tz": -330
    },
    "id": "29827d65-9928-40a3-aefb-6345386ed614",
    "outputId": "d80d61b7-bebc-4802-d981-9481d818d6d0"
   },
   "outputs": [
    {
     "data": {
      "text/plain": [
       "(446, 40, 40, 1)"
      ]
     },
     "execution_count": 125,
     "metadata": {},
     "output_type": "execute_result"
    }
   ],
   "source": [
    "x_train.shape"
   ]
  },
  {
   "cell_type": "code",
   "execution_count": 126,
   "id": "999a0277-653e-4f9d-b817-d68e8f3f7a57",
   "metadata": {
    "colab": {
     "base_uri": "https://localhost:8080/"
    },
    "executionInfo": {
     "elapsed": 25,
     "status": "ok",
     "timestamp": 1720258502221,
     "user": {
      "displayName": "Harsh Raj",
      "userId": "13475918194215025488"
     },
     "user_tz": -330
    },
    "id": "999a0277-653e-4f9d-b817-d68e8f3f7a57",
    "outputId": "e7137ebf-b0b2-40cf-8dc5-9a21501a0311"
   },
   "outputs": [
    {
     "data": {
      "text/plain": [
       "(446, 5)"
      ]
     },
     "execution_count": 126,
     "metadata": {},
     "output_type": "execute_result"
    }
   ],
   "source": [
    "y_train.shape"
   ]
  },
  {
   "cell_type": "markdown",
   "id": "Hm8XnZEtaPoh",
   "metadata": {
    "id": "Hm8XnZEtaPoh"
   },
   "source": [
    "## Model Development"
   ]
  },
  {
   "cell_type": "markdown",
   "id": "giKC5uiwI_ds",
   "metadata": {
    "id": "giKC5uiwI_ds"
   },
   "source": [
    "### Model Development"
   ]
  },
  {
   "cell_type": "code",
   "execution_count": 127,
   "id": "1f518d8f-881d-4814-94f9-e32552542ad4",
   "metadata": {
    "executionInfo": {
     "elapsed": 26,
     "status": "ok",
     "timestamp": 1720258502222,
     "user": {
      "displayName": "Harsh Raj",
      "userId": "13475918194215025488"
     },
     "user_tz": -330
    },
    "id": "1f518d8f-881d-4814-94f9-e32552542ad4"
   },
   "outputs": [],
   "source": [
    "# Define your model\n",
    "model = Sequential([\n",
    "    Conv2D(65, kernel_size=(3, 3), activation='relu', input_shape=(40, 40, 1)),\n",
    "    MaxPooling2D(pool_size=(2, 2)),\n",
    "    Conv2D(40, kernel_size=(3, 3), activation='relu'),\n",
    "    Dropout(0.25),\n",
    "    MaxPooling2D(pool_size=(2, 2)),\n",
    "    Conv2D(25, kernel_size=(3, 3), activation='relu'),\n",
    "    MaxPooling2D(pool_size=(2, 2)),\n",
    "    Flatten(),\n",
    "    Dense(256, activation='relu'),\n",
    "    Dropout(0.5),\n",
    "    Dense(5, activation='softmax')  # for 5 classes\n",
    "])"
   ]
  },
  {
   "cell_type": "code",
   "execution_count": 128,
   "id": "34bbc2e8-abf3-4d37-bc74-f4cffd4291f1",
   "metadata": {
    "executionInfo": {
     "elapsed": 25,
     "status": "ok",
     "timestamp": 1720258502222,
     "user": {
      "displayName": "Harsh Raj",
      "userId": "13475918194215025488"
     },
     "user_tz": -330
    },
    "id": "34bbc2e8-abf3-4d37-bc74-f4cffd4291f1"
   },
   "outputs": [],
   "source": [
    "# Compile the model\n",
    "model.compile(optimizer=Adam(), loss='categorical_crossentropy', metrics=['accuracy'])\n"
   ]
  },
  {
   "cell_type": "code",
   "execution_count": 129,
   "id": "a0f1e491-1191-4d42-9ec1-e1d948af575e",
   "metadata": {
    "colab": {
     "base_uri": "https://localhost:8080/"
    },
    "executionInfo": {
     "elapsed": 25,
     "status": "ok",
     "timestamp": 1720258502222,
     "user": {
      "displayName": "Harsh Raj",
      "userId": "13475918194215025488"
     },
     "user_tz": -330
    },
    "id": "a0f1e491-1191-4d42-9ec1-e1d948af575e",
    "outputId": "625c8bb4-bd7d-4ce0-db90-c3b1f11b8ac1"
   },
   "outputs": [
    {
     "name": "stdout",
     "output_type": "stream",
     "text": [
      "Model: \"sequential_1\"\n",
      "_________________________________________________________________\n",
      " Layer (type)                Output Shape              Param #   \n",
      "=================================================================\n",
      " conv2d_3 (Conv2D)           (None, 38, 38, 65)        650       \n",
      "                                                                 \n",
      " max_pooling2d_3 (MaxPoolin  (None, 19, 19, 65)        0         \n",
      " g2D)                                                            \n",
      "                                                                 \n",
      " conv2d_4 (Conv2D)           (None, 17, 17, 40)        23440     \n",
      "                                                                 \n",
      " dropout_2 (Dropout)         (None, 17, 17, 40)        0         \n",
      "                                                                 \n",
      " max_pooling2d_4 (MaxPoolin  (None, 8, 8, 40)          0         \n",
      " g2D)                                                            \n",
      "                                                                 \n",
      " conv2d_5 (Conv2D)           (None, 6, 6, 25)          9025      \n",
      "                                                                 \n",
      " max_pooling2d_5 (MaxPoolin  (None, 3, 3, 25)          0         \n",
      " g2D)                                                            \n",
      "                                                                 \n",
      " flatten_1 (Flatten)         (None, 225)               0         \n",
      "                                                                 \n",
      " dense_2 (Dense)             (None, 256)               57856     \n",
      "                                                                 \n",
      " dropout_3 (Dropout)         (None, 256)               0         \n",
      "                                                                 \n",
      " dense_3 (Dense)             (None, 5)                 1285      \n",
      "                                                                 \n",
      "=================================================================\n",
      "Total params: 92256 (360.38 KB)\n",
      "Trainable params: 92256 (360.38 KB)\n",
      "Non-trainable params: 0 (0.00 Byte)\n",
      "_________________________________________________________________\n",
      "None\n"
     ]
    }
   ],
   "source": [
    "# Print model summary\n",
    "print(model.summary())"
   ]
  },
  {
   "cell_type": "code",
   "execution_count": 130,
   "id": "4d8f8fe3-b47b-4ecd-84fb-4e50e32e27fe",
   "metadata": {
    "colab": {
     "base_uri": "https://localhost:8080/"
    },
    "executionInfo": {
     "elapsed": 16,
     "status": "ok",
     "timestamp": 1720258502222,
     "user": {
      "displayName": "Harsh Raj",
      "userId": "13475918194215025488"
     },
     "user_tz": -330
    },
    "id": "4d8f8fe3-b47b-4ecd-84fb-4e50e32e27fe",
    "outputId": "aafdb892-e52e-49c3-e316-39fdf768a023"
   },
   "outputs": [
    {
     "data": {
      "text/plain": [
       "(446, 5)"
      ]
     },
     "execution_count": 130,
     "metadata": {},
     "output_type": "execute_result"
    }
   ],
   "source": [
    "y_train.shape"
   ]
  },
  {
   "cell_type": "code",
   "execution_count": 131,
   "id": "f7f1751d-e867-4514-904d-3f03001fae76",
   "metadata": {
    "executionInfo": {
     "elapsed": 16,
     "status": "ok",
     "timestamp": 1720258502223,
     "user": {
      "displayName": "Harsh Raj",
      "userId": "13475918194215025488"
     },
     "user_tz": -330
    },
    "id": "f7f1751d-e867-4514-904d-3f03001fae76"
   },
   "outputs": [],
   "source": [
    "# Initialize ImageDataGenerator\n",
    "datagen = ImageDataGenerator(\n",
    "    featurewise_center=False,\n",
    "    samplewise_center=False,\n",
    "    featurewise_std_normalization=False,\n",
    "    samplewise_std_normalization=False,\n",
    "    zca_whitening=False,\n",
    "    rotation_range=10,\n",
    "    zoom_range=0.1,\n",
    "    width_shift_range=0.1,\n",
    "    height_shift_range=0.1,\n",
    "    horizontal_flip=False,\n",
    "    vertical_flip=False\n",
    ")"
   ]
  },
  {
   "cell_type": "markdown",
   "id": "ENp0VVX9JfJr",
   "metadata": {
    "id": "ENp0VVX9JfJr"
   },
   "source": [
    "This will slightly reduce the learning_rate_while developing the ML model for increasing the accuracy."
   ]
  },
  {
   "cell_type": "code",
   "execution_count": 132,
   "id": "e709486b-1e6a-4c86-a0ac-5cf9c1c019ee",
   "metadata": {
    "executionInfo": {
     "elapsed": 13,
     "status": "ok",
     "timestamp": 1720258502223,
     "user": {
      "displayName": "Harsh Raj",
      "userId": "13475918194215025488"
     },
     "user_tz": -330
    },
    "id": "e709486b-1e6a-4c86-a0ac-5cf9c1c019ee"
   },
   "outputs": [],
   "source": [
    "learning_rate_reduction = ReduceLROnPlateau(monitor='val_accuracy',\n",
    "                                            patience=2,\n",
    "                                            verbose=1,\n",
    "                                            factor=0.5,\n",
    "                                            min_lr=0.00001)"
   ]
  },
  {
   "cell_type": "code",
   "execution_count": 133,
   "id": "19336efe-3953-432f-8059-6f5699ef1175",
   "metadata": {
    "colab": {
     "base_uri": "https://localhost:8080/"
    },
    "executionInfo": {
     "elapsed": 9063,
     "status": "ok",
     "timestamp": 1720258511273,
     "user": {
      "displayName": "Harsh Raj",
      "userId": "13475918194215025488"
     },
     "user_tz": -330
    },
    "id": "19336efe-3953-432f-8059-6f5699ef1175",
    "outputId": "1c806d0a-f340-4349-cf85-edc8acf75dfd"
   },
   "outputs": [
    {
     "name": "stdout",
     "output_type": "stream",
     "text": [
      "Epoch 1/20\n",
      "3/3 [==============================] - 2s 120ms/step - loss: 1.5380 - accuracy: 0.2803 - val_loss: 1.4256 - val_accuracy: 0.6607 - lr: 0.0010\n",
      "Epoch 2/20\n",
      "3/3 [==============================] - 0s 60ms/step - loss: 1.3144 - accuracy: 0.5897 - val_loss: 1.0589 - val_accuracy: 0.7500 - lr: 0.0010\n",
      "Epoch 3/20\n",
      "3/3 [==============================] - 0s 88ms/step - loss: 0.8886 - accuracy: 0.7803 - val_loss: 0.5608 - val_accuracy: 0.9375 - lr: 0.0010\n",
      "Epoch 4/20\n",
      "3/3 [==============================] - 0s 105ms/step - loss: 0.5625 - accuracy: 0.8632 - val_loss: 0.2658 - val_accuracy: 0.9732 - lr: 0.0010\n",
      "Epoch 5/20\n",
      "3/3 [==============================] - 0s 98ms/step - loss: 0.4198 - accuracy: 0.8722 - val_loss: 0.1567 - val_accuracy: 0.9821 - lr: 0.0010\n",
      "Epoch 6/20\n",
      "3/3 [==============================] - 0s 112ms/step - loss: 0.3657 - accuracy: 0.9036 - val_loss: 0.0851 - val_accuracy: 0.9821 - lr: 0.0010\n",
      "Epoch 7/20\n",
      "3/3 [==============================] - 0s 109ms/step - loss: 0.2662 - accuracy: 0.8946 - val_loss: 0.0530 - val_accuracy: 0.9911 - lr: 0.0010\n",
      "Epoch 8/20\n",
      "3/3 [==============================] - 0s 104ms/step - loss: 0.2269 - accuracy: 0.9126 - val_loss: 0.0438 - val_accuracy: 1.0000 - lr: 0.0010\n",
      "Epoch 9/20\n",
      "3/3 [==============================] - 0s 88ms/step - loss: 0.1788 - accuracy: 0.9395 - val_loss: 0.0357 - val_accuracy: 0.9911 - lr: 0.0010\n",
      "Epoch 10/20\n",
      "4/3 [==================================] - ETA: 0s - loss: 0.1384 - accuracy: 0.9507\n",
      "Epoch 10: ReduceLROnPlateau reducing learning rate to 0.0005000000237487257.\n",
      "3/3 [==============================] - 0s 115ms/step - loss: 0.1384 - accuracy: 0.9507 - val_loss: 0.0307 - val_accuracy: 0.9911 - lr: 0.0010\n",
      "Epoch 11/20\n",
      "3/3 [==============================] - 0s 112ms/step - loss: 0.1106 - accuracy: 0.9529 - val_loss: 0.0298 - val_accuracy: 0.9821 - lr: 5.0000e-04\n",
      "Epoch 12/20\n",
      "4/3 [==================================] - ETA: 0s - loss: 0.1114 - accuracy: 0.9686\n",
      "Epoch 12: ReduceLROnPlateau reducing learning rate to 0.0002500000118743628.\n",
      "3/3 [==============================] - 0s 129ms/step - loss: 0.1114 - accuracy: 0.9686 - val_loss: 0.0247 - val_accuracy: 0.9911 - lr: 5.0000e-04\n",
      "Epoch 13/20\n",
      "3/3 [==============================] - 0s 73ms/step - loss: 0.0891 - accuracy: 0.9686 - val_loss: 0.0235 - val_accuracy: 0.9911 - lr: 2.5000e-04\n",
      "Epoch 14/20\n",
      "3/3 [========================>.....] - ETA: 0s - loss: 0.1114 - accuracy: 0.9560\n",
      "Epoch 14: ReduceLROnPlateau reducing learning rate to 0.0001250000059371814.\n",
      "3/3 [==============================] - 0s 72ms/step - loss: 0.0924 - accuracy: 0.9664 - val_loss: 0.0219 - val_accuracy: 1.0000 - lr: 2.5000e-04\n",
      "Epoch 15/20\n",
      "3/3 [==============================] - 0s 75ms/step - loss: 0.1064 - accuracy: 0.9798 - val_loss: 0.0201 - val_accuracy: 1.0000 - lr: 1.2500e-04\n",
      "Epoch 16/20\n",
      "4/3 [==================================] - ETA: 0s - loss: 0.1079 - accuracy: 0.9686\n",
      "Epoch 16: ReduceLROnPlateau reducing learning rate to 6.25000029685907e-05.\n",
      "3/3 [==============================] - 0s 75ms/step - loss: 0.1079 - accuracy: 0.9686 - val_loss: 0.0182 - val_accuracy: 1.0000 - lr: 1.2500e-04\n",
      "Epoch 17/20\n",
      "3/3 [==============================] - 0s 61ms/step - loss: 0.1471 - accuracy: 0.9462 - val_loss: 0.0180 - val_accuracy: 1.0000 - lr: 6.2500e-05\n",
      "Epoch 18/20\n",
      "4/3 [==================================] - ETA: 0s - loss: 0.0865 - accuracy: 0.9664\n",
      "Epoch 18: ReduceLROnPlateau reducing learning rate to 3.125000148429535e-05.\n",
      "3/3 [==============================] - 0s 65ms/step - loss: 0.0865 - accuracy: 0.9664 - val_loss: 0.0178 - val_accuracy: 1.0000 - lr: 6.2500e-05\n",
      "Epoch 19/20\n",
      "3/3 [==============================] - 0s 80ms/step - loss: 0.1148 - accuracy: 0.9574 - val_loss: 0.0180 - val_accuracy: 1.0000 - lr: 3.1250e-05\n",
      "Epoch 20/20\n",
      "3/3 [========================>.....] - ETA: 0s - loss: 0.0744 - accuracy: 0.9766\n",
      "Epoch 20: ReduceLROnPlateau reducing learning rate to 1.5625000742147677e-05.\n",
      "3/3 [==============================] - 0s 62ms/step - loss: 0.0830 - accuracy: 0.9731 - val_loss: 0.0181 - val_accuracy: 1.0000 - lr: 3.1250e-05\n"
     ]
    }
   ],
   "source": [
    "# Now fitting the model\n",
    "history = model.fit(datagen.flow(x_train, y_train, batch_size=128),\n",
    "                    steps_per_epoch=len(x_train) / 128,\n",
    "                    epochs=20,\n",
    "                    validation_data=(x_test, y_test),\n",
    "                    callbacks=[learning_rate_reduction])"
   ]
  },
  {
   "cell_type": "markdown",
   "id": "wARxlWKqJwrj",
   "metadata": {
    "id": "wARxlWKqJwrj"
   },
   "source": [
    "### Model evaluation"
   ]
  },
  {
   "cell_type": "code",
   "execution_count": 134,
   "id": "5150012d-8862-447f-b7ea-407334e5f9e7",
   "metadata": {
    "colab": {
     "base_uri": "https://localhost:8080/"
    },
    "executionInfo": {
     "elapsed": 10,
     "status": "ok",
     "timestamp": 1720258511273,
     "user": {
      "displayName": "Harsh Raj",
      "userId": "13475918194215025488"
     },
     "user_tz": -330
    },
    "id": "5150012d-8862-447f-b7ea-407334e5f9e7",
    "outputId": "1b3ebb6d-d550-47c2-e30b-88177a19e2ae"
   },
   "outputs": [
    {
     "name": "stdout",
     "output_type": "stream",
     "text": [
      "4/4 [==============================] - 0s 4ms/step - loss: 0.0181 - accuracy: 1.0000\n",
      "Accuracy of the model is - 100.00%\n"
     ]
    }
   ],
   "source": [
    "# Evaluate the model\n",
    "accuracy = model.evaluate(x_test, y_test)[1]\n",
    "print(\"Accuracy of the model is - {:.2f}%\".format(accuracy * 100))"
   ]
  },
  {
   "cell_type": "markdown",
   "id": "Wp0z2HB-J3Bz",
   "metadata": {
    "id": "Wp0z2HB-J3Bz"
   },
   "source": [
    "This will generate a Training & Validation Accuracy and a Testing Accuracy & Loss graph for visualising the accuracy as per epochs to check for over fitting."
   ]
  },
  {
   "cell_type": "code",
   "execution_count": 135,
   "id": "9ac625aa-f072-4a76-a632-3e3b0d54910a",
   "metadata": {
    "colab": {
     "base_uri": "https://localhost:8080/",
     "height": 0
    },
    "executionInfo": {
     "elapsed": 1530,
     "status": "ok",
     "timestamp": 1720258512796,
     "user": {
      "displayName": "Harsh Raj",
      "userId": "13475918194215025488"
     },
     "user_tz": -330
    },
    "id": "9ac625aa-f072-4a76-a632-3e3b0d54910a",
    "outputId": "73fe163c-8cb8-4287-b251-3a8a2ee0ddea"
   },
   "outputs": [
    {
     "data": {
      "image/png": "[encoded data removed]",
      "text/plain": [
       "<Figure size 1600x900 with 2 Axes>"
      ]
     },
     "metadata": {},
     "output_type": "display_data"
    }
   ],
   "source": [
    "epochs = [i for i in range(20)]\n",
    "fig , ax = plt.subplots(1,2)\n",
    "train_acc = history.history['accuracy']\n",
    "train_loss = history.history['loss']\n",
    "val_acc = history.history['val_accuracy']\n",
    "val_loss = history.history['val_loss']\n",
    "fig.set_size_inches(16,9)\n",
    "\n",
    "ax[0].plot(epochs , train_acc , 'go-' , label = 'Training Accuracy')\n",
    "ax[0].plot(epochs , val_acc , 'ro-' , label = 'Testing Accuracy')\n",
    "ax[0].set_title('Training & Validation Accuracy')\n",
    "ax[0].legend()\n",
    "ax[0].set_xlabel(\"Epochs\")\n",
    "ax[0].set_ylabel(\"Accuracy\")\n",
    "\n",
    "ax[1].plot(epochs , train_loss , 'g-o' , label = 'Training Loss')\n",
    "ax[1].plot(epochs , val_loss , 'r-o' , label = 'Testing Loss')\n",
    "ax[1].set_title('Testing Accuracy & Loss')\n",
    "ax[1].legend()\n",
    "ax[1].set_xlabel(\"Epochs\")\n",
    "ax[1].set_ylabel(\"Loss\")\n",
    "plt.show()"
   ]
  },
  {
   "cell_type": "code",
   "execution_count": 136,
   "id": "a3b9ab36-0dfa-43f2-8fa9-d5612c789e80",
   "metadata": {
    "colab": {
     "base_uri": "https://localhost:8080/"
    },
    "executionInfo": {
     "elapsed": 31,
     "status": "ok",
     "timestamp": 1720258512799,
     "user": {
      "displayName": "Harsh Raj",
      "userId": "13475918194215025488"
     },
     "user_tz": -330
    },
    "id": "a3b9ab36-0dfa-43f2-8fa9-d5612c789e80",
    "outputId": "35076eed-131c-42b1-852a-4d0b42769690"
   },
   "outputs": [
    {
     "name": "stdout",
     "output_type": "stream",
     "text": [
      "4/4 [==============================] - 0s 3ms/step\n"
     ]
    },
    {
     "data": {
      "text/plain": [
       "array([0, 3, 0, 2, 1])"
      ]
     },
     "execution_count": 136,
     "metadata": {},
     "output_type": "execute_result"
    }
   ],
   "source": [
    "# Predicting the first five test data\n",
    "preds = model.predict(x_test)\n",
    "predictions = np.argmax(preds, axis=1)\n",
    "for i in range(len(predictions)):\n",
    "    if(predictions[i] >= 9):\n",
    "        predictions[i] += 1\n",
    "predictions[:5]"
   ]
  },
  {
   "cell_type": "markdown",
   "id": "jOpgNUW8KnMg",
   "metadata": {
    "id": "jOpgNUW8KnMg"
   },
   "source": [
    "Now model is saved for our further use"
   ]
  },
  {
   "cell_type": "code",
   "execution_count": 137,
   "id": "804ae0d9-9783-432b-8548-87952cfecbec",
   "metadata": {
    "colab": {
     "base_uri": "https://localhost:8080/"
    },
    "executionInfo": {
     "elapsed": 28,
     "status": "ok",
     "timestamp": 1720258512799,
     "user": {
      "displayName": "Harsh Raj",
      "userId": "13475918194215025488"
     },
     "user_tz": -330
    },
    "id": "804ae0d9-9783-432b-8548-87952cfecbec",
    "outputId": "e506e7d0-f644-4e67-c8e2-696f144a4ac6"
   },
   "outputs": [
    {
     "name": "stderr",
     "output_type": "stream",
     "text": [
      "/usr/local/lib/python3.10/dist-packages/keras/src/engine/training.py:3103: UserWarning: You are saving your model as an HDF5 file via `model.save()`. This file format is considered legacy. We recommend using instead the native Keras format, e.g. `model.save('my_model.keras')`.\n",
      "  saving_api.save_model(\n"
     ]
    }
   ],
   "source": [
    "# Save the model\n",
    "model.save('sign_language_model.h5')"
   ]
  },
  {
   "cell_type": "markdown",
   "id": "jgOlQJ1kLagj",
   "metadata": {
    "id": "jgOlQJ1kLagj"
   },
   "source": [
    "### Converting o tensorflow lite model."
   ]
  },
  {
   "cell_type": "code",
   "execution_count": 138,
   "id": "815e34e8-c36b-4ebb-915d-1b9ccae58ae4",
   "metadata": {
    "colab": {
     "base_uri": "https://localhost:8080/"
    },
    "executionInfo": {
     "elapsed": 28,
     "status": "ok",
     "timestamp": 1720258512800,
     "user": {
      "displayName": "Harsh Raj",
      "userId": "13475918194215025488"
     },
     "user_tz": -330
    },
    "id": "815e34e8-c36b-4ebb-915d-1b9ccae58ae4",
    "outputId": "8e451ee5-2bb3-47ad-da80-795ff46a8309"
   },
   "outputs": [
    {
     "name": "stdout",
     "output_type": "stream",
     "text": [
      "(112, 40, 40, 1)\n"
     ]
    }
   ],
   "source": [
    "import tensorflow.compat.v1 as tf\n",
    "# x_test_flat=tf.cast(tf.squeeze(x_test, axis=-1), tf.float32) / 255.0\n",
    "x_test_flat=tf.cast(x_test, tf.float32)# / 255.0\n",
    "print(x_test_flat.shape)\n",
    "xtest_ds = tf.data.Dataset.from_tensor_slices((x_test_flat)).batch(1)"
   ]
  },
  {
   "cell_type": "code",
   "execution_count": 139,
   "id": "a5eacdee-95fa-4cda-920a-09344fe6ec5f",
   "metadata": {
    "colab": {
     "base_uri": "https://localhost:8080/"
    },
    "executionInfo": {
     "elapsed": 27,
     "status": "ok",
     "timestamp": 1720258512800,
     "user": {
      "displayName": "Harsh Raj",
      "userId": "13475918194215025488"
     },
     "user_tz": -330
    },
    "id": "a5eacdee-95fa-4cda-920a-09344fe6ec5f",
    "outputId": "b1480aec-708d-44cb-d0ff-594e6598fbd7"
   },
   "outputs": [
    {
     "name": "stdout",
     "output_type": "stream",
     "text": [
      "<_BatchDataset element_spec=TensorSpec(shape=(None, 40, 40, 1), dtype=tf.float32, name=None)>\n"
     ]
    }
   ],
   "source": [
    "print(xtest_ds)\n",
    "def representative_data_gen():\n",
    "    for input_value in xtest_ds.take(100):\n",
    "        yield [input_value]"
   ]
  },
  {
   "cell_type": "code",
   "execution_count": 140,
   "id": "28c3ed9c-5364-4160-b890-f8ebf946f3a6",
   "metadata": {
    "executionInfo": {
     "elapsed": 28,
     "status": "ok",
     "timestamp": 1720258512801,
     "user": {
      "displayName": "Harsh Raj",
      "userId": "13475918194215025488"
     },
     "user_tz": -330
    },
    "id": "28c3ed9c-5364-4160-b890-f8ebf946f3a6"
   },
   "outputs": [],
   "source": [
    "def representative_dataset():\n",
    "    xtest_rd = test_df.values\n",
    "    for i in range(250):\n",
    "        nxt = (xtest_rd[i])\n",
    "        nxt = nxt.reshape(1,100,100,1)\n",
    "        nxt = np.array(nxt)\n",
    "        nxt = ((nxt/127.5)-1.0).astype(np.float32)\n",
    "        yield([nxt])"
   ]
  },
  {
   "cell_type": "markdown",
   "id": "F38lA5ugMcW5",
   "metadata": {
    "id": "F38lA5ugMcW5"
   },
   "source": [
    "This code snippet will convert the tensorflow model to tflite model and save it"
   ]
  },
  {
   "cell_type": "code",
   "execution_count": 141,
   "id": "b4307938-68c7-488e-8d13-a7ec828ea52c",
   "metadata": {
    "executionInfo": {
     "elapsed": 27,
     "status": "ok",
     "timestamp": 1720258512801,
     "user": {
      "displayName": "Harsh Raj",
      "userId": "13475918194215025488"
     },
     "user_tz": -330
    },
    "id": "b4307938-68c7-488e-8d13-a7ec828ea52c"
   },
   "outputs": [],
   "source": [
    "import tensorflow as tf # importing the tensorflow"
   ]
  },
  {
   "cell_type": "code",
   "execution_count": 142,
   "id": "vibSR_RSMy-R",
   "metadata": {
    "executionInfo": {
     "elapsed": 27,
     "status": "ok",
     "timestamp": 1720258512801,
     "user": {
      "displayName": "Harsh Raj",
      "userId": "13475918194215025488"
     },
     "user_tz": -330
    },
    "id": "vibSR_RSMy-R"
   },
   "outputs": [],
   "source": [
    "# Create a TFLiteConverter object from the Keras model\n",
    "converter = tf.lite.TFLiteConverter.from_keras_model(model)"
   ]
  },
  {
   "cell_type": "code",
   "execution_count": 143,
   "id": "rDtvFRlKMnA1",
   "metadata": {
    "executionInfo": {
     "elapsed": 26,
     "status": "ok",
     "timestamp": 1720258512801,
     "user": {
      "displayName": "Harsh Raj",
      "userId": "13475918194215025488"
     },
     "user_tz": -330
    },
    "id": "rDtvFRlKMnA1"
   },
   "outputs": [],
   "source": [
    "# Define the representative dataset function if needed\n",
    "def representative_dataset():\n",
    "    for data in tf.data.Dataset.from_tensor_slices(x_train).batch(1).take(100):\n",
    "        yield [tf.dtypes.cast(data, tf.float32)]"
   ]
  },
  {
   "cell_type": "code",
   "execution_count": 144,
   "id": "2NWFovzTMm59",
   "metadata": {
    "executionInfo": {
     "elapsed": 27,
     "status": "ok",
     "timestamp": 1720258512802,
     "user": {
      "displayName": "Harsh Raj",
      "userId": "13475918194215025488"
     },
     "user_tz": -330
    },
    "id": "2NWFovzTMm59"
   },
   "outputs": [],
   "source": [
    "# Optionally, set the representative dataset for quantization\n",
    "converter.representative_dataset = representative_dataset"
   ]
  },
  {
   "cell_type": "code",
   "execution_count": 145,
   "id": "juFmCAhCMmzt",
   "metadata": {
    "executionInfo": {
     "elapsed": 759,
     "status": "ok",
     "timestamp": 1720258513535,
     "user": {
      "displayName": "Harsh Raj",
      "userId": "13475918194215025488"
     },
     "user_tz": -330
    },
    "id": "juFmCAhCMmzt"
   },
   "outputs": [],
   "source": [
    "# Convert the model to the TFLite format\n",
    "tflite_model = converter.convert()"
   ]
  },
  {
   "cell_type": "code",
   "execution_count": 146,
   "id": "vm05FUz9MmTm",
   "metadata": {
    "executionInfo": {
     "elapsed": 9,
     "status": "ok",
     "timestamp": 1720258513536,
     "user": {
      "displayName": "Harsh Raj",
      "userId": "13475918194215025488"
     },
     "user_tz": -330
    },
    "id": "vm05FUz9MmTm"
   },
   "outputs": [],
   "source": [
    "# Save the TFLite model to a file\n",
    "with open('model.tflite', 'wb') as f:\n",
    "    f.write(tflite_model)"
   ]
  },
  {
   "cell_type": "markdown",
   "id": "t1VDCKDTM9pk",
   "metadata": {
    "id": "t1VDCKDTM9pk"
   },
   "source": [
    "### Some useful function to calculate compare the size of our ml model."
   ]
  },
  {
   "cell_type": "code",
   "execution_count": 147,
   "id": "QcrUr4Yy4F-R",
   "metadata": {
    "executionInfo": {
     "elapsed": 9,
     "status": "ok",
     "timestamp": 1720258513536,
     "user": {
      "displayName": "Harsh Raj",
      "userId": "13475918194215025488"
     },
     "user_tz": -330
    },
    "id": "QcrUr4Yy4F-R"
   },
   "outputs": [],
   "source": [
    "# This will get the file size\n",
    "def get_file_size(file_path):\n",
    "    size = os.path.getsize(file_path)\n",
    "    return size"
   ]
  },
  {
   "cell_type": "code",
   "execution_count": 148,
   "id": "P6VBhDM-4Fse",
   "metadata": {
    "executionInfo": {
     "elapsed": 9,
     "status": "ok",
     "timestamp": 1720258513537,
     "user": {
      "displayName": "Harsh Raj",
      "userId": "13475918194215025488"
     },
     "user_tz": -330
    },
    "id": "P6VBhDM-4Fse"
   },
   "outputs": [],
   "source": [
    "# This will convert the size in bytes to KB and MB\n",
    "def convert_bytes(size, unit=None):\n",
    "    if unit == \"KB\":\n",
    "        return print('File size: ' + str(round(size / 1024, 3)) + ' Kilobytes')\n",
    "    elif unit == \"MB\":\n",
    "        return print('File size: ' + str(round(size / (1024 * 1024), 3)) + ' Megabytes')\n",
    "    else:\n",
    "        return print('File size: ' + str(size) + ' bytes')"
   ]
  },
  {
   "cell_type": "markdown",
   "id": "mZ6fvKXvN2fi",
   "metadata": {
    "id": "mZ6fvKXvN2fi"
   },
   "source": [
    "### Converting to tflite"
   ]
  },
  {
   "cell_type": "code",
   "execution_count": 149,
   "id": "e4-zz5pJ4UZQ",
   "metadata": {
    "executionInfo": {
     "elapsed": 8,
     "status": "ok",
     "timestamp": 1720258513537,
     "user": {
      "displayName": "Harsh Raj",
      "userId": "13475918194215025488"
     },
     "user_tz": -330
    },
    "id": "e4-zz5pJ4UZQ"
   },
   "outputs": [],
   "source": [
    "TF_LITE_MODEL_FILE_NAME = \"ISL_lite.tflite\""
   ]
  },
  {
   "cell_type": "code",
   "execution_count": 150,
   "id": "ooqjC20a4hh2",
   "metadata": {
    "executionInfo": {
     "elapsed": 1638,
     "status": "ok",
     "timestamp": 1720258515168,
     "user": {
      "displayName": "Harsh Raj",
      "userId": "13475918194215025488"
     },
     "user_tz": -330
    },
    "id": "ooqjC20a4hh2"
   },
   "outputs": [],
   "source": [
    "tf_lite_converter = tf.lite.TFLiteConverter.from_keras_model(model)\n",
    "tflite_model = tf_lite_converter.convert()"
   ]
  },
  {
   "cell_type": "code",
   "execution_count": 151,
   "id": "JhLhKgbf4g9f",
   "metadata": {
    "executionInfo": {
     "elapsed": 23,
     "status": "ok",
     "timestamp": 1720258515168,
     "user": {
      "displayName": "Harsh Raj",
      "userId": "13475918194215025488"
     },
     "user_tz": -330
    },
    "id": "JhLhKgbf4g9f"
   },
   "outputs": [],
   "source": [
    "tflite_model_name = TF_LITE_MODEL_FILE_NAME"
   ]
  },
  {
   "cell_type": "code",
   "execution_count": 152,
   "id": "3f08ee37-34bf-4007-8289-5eef7acd46a8",
   "metadata": {
    "colab": {
     "base_uri": "https://localhost:8080/"
    },
    "executionInfo": {
     "elapsed": 22,
     "status": "ok",
     "timestamp": 1720258515168,
     "user": {
      "displayName": "Harsh Raj",
      "userId": "13475918194215025488"
     },
     "user_tz": -330
    },
    "id": "3f08ee37-34bf-4007-8289-5eef7acd46a8",
    "outputId": "4d416b83-1783-4675-89bc-8ab4f8137859"
   },
   "outputs": [
    {
     "data": {
      "text/plain": [
       "373204"
      ]
     },
     "execution_count": 152,
     "metadata": {},
     "output_type": "execute_result"
    }
   ],
   "source": [
    "open(\"ISL_lite.tflite\", \"wb\").write(tflite_model)"
   ]
  },
  {
   "cell_type": "code",
   "execution_count": 153,
   "id": "W9G0Rxfr4vzO",
   "metadata": {
    "colab": {
     "base_uri": "https://localhost:8080/"
    },
    "executionInfo": {
     "elapsed": 21,
     "status": "ok",
     "timestamp": 1720258515168,
     "user": {
      "displayName": "Harsh Raj",
      "userId": "13475918194215025488"
     },
     "user_tz": -330
    },
    "id": "W9G0Rxfr4vzO",
    "outputId": "4652ee3f-f41c-419e-ecd2-98f188e07409"
   },
   "outputs": [
    {
     "name": "stdout",
     "output_type": "stream",
     "text": [
      "File size: 364.457 Kilobytes\n"
     ]
    }
   ],
   "source": [
    "convert_bytes(get_file_size(TF_LITE_MODEL_FILE_NAME), \"KB\")"
   ]
  },
  {
   "cell_type": "code",
   "execution_count": 154,
   "id": "T-MRfE7Z4vse",
   "metadata": {
    "executionInfo": {
     "elapsed": 21,
     "status": "ok",
     "timestamp": 1720258515169,
     "user": {
      "displayName": "Harsh Raj",
      "userId": "13475918194215025488"
     },
     "user_tz": -330
    },
    "id": "T-MRfE7Z4vse"
   },
   "outputs": [],
   "source": [
    "tflite_file_size = get_file_size(TF_LITE_MODEL_FILE_NAME)"
   ]
  },
  {
   "cell_type": "markdown",
   "id": "c0OjcUldbh6L",
   "metadata": {
    "id": "c0OjcUldbh6L"
   },
   "source": [
    "## Quantization"
   ]
  },
  {
   "cell_type": "markdown",
   "id": "EbIPndnfOjxo",
   "metadata": {
    "id": "EbIPndnfOjxo"
   },
   "source": [
    "### Quantization of tflite model"
   ]
  },
  {
   "cell_type": "code",
   "execution_count": 155,
   "id": "oCVxZVkp4vmS",
   "metadata": {
    "colab": {
     "base_uri": "https://localhost:8080/"
    },
    "executionInfo": {
     "elapsed": 20,
     "status": "ok",
     "timestamp": 1720258515169,
     "user": {
      "displayName": "Harsh Raj",
      "userId": "13475918194215025488"
     },
     "user_tz": -330
    },
    "id": "oCVxZVkp4vmS",
    "outputId": "41314825-5e2d-4dbf-f165-0a5aa778bfc6"
   },
   "outputs": [
    {
     "name": "stdout",
     "output_type": "stream",
     "text": [
      "Input Shape: [ 1 40 40  1]\n",
      "Input Type: <class 'numpy.float32'>\n",
      "Output Shape: [1 5]\n",
      "Output Type: <class 'numpy.float32'>\n"
     ]
    }
   ],
   "source": [
    "interpreter = tf.lite.Interpreter(model_path = TF_LITE_MODEL_FILE_NAME)\n",
    "input_details = interpreter.get_input_details()\n",
    "output_details = interpreter.get_output_details()\n",
    "print(\"Input Shape:\", input_details[0]['shape'])\n",
    "print(\"Input Type:\", input_details[0]['dtype'])\n",
    "print(\"Output Shape:\", output_details[0]['shape'])\n",
    "print(\"Output Type:\", output_details[0]['dtype'])"
   ]
  },
  {
   "cell_type": "code",
   "execution_count": 156,
   "id": "1JoAk19O4ves",
   "metadata": {
    "colab": {
     "base_uri": "https://localhost:8080/"
    },
    "executionInfo": {
     "elapsed": 20,
     "status": "ok",
     "timestamp": 1720258515169,
     "user": {
      "displayName": "Harsh Raj",
      "userId": "13475918194215025488"
     },
     "user_tz": -330
    },
    "id": "1JoAk19O4ves",
    "outputId": "5dc859a3-c309-40b9-879e-d7d12650978b"
   },
   "outputs": [
    {
     "name": "stdout",
     "output_type": "stream",
     "text": [
      "Input Shape: [10000    40    40     3]\n",
      "Input Type: <class 'numpy.float32'>\n",
      "Output Shape: [10000     5]\n",
      "Output Type: <class 'numpy.float32'>\n"
     ]
    }
   ],
   "source": [
    "interpreter.resize_tensor_input(input_details[0]['index'], (10000, 40, 40, 3)) # Add a dimension for channels\n",
    "interpreter.allocate_tensors()\n",
    "input_details = interpreter.get_input_details()\n",
    "output_details = interpreter.get_output_details()\n",
    "print(\"Input Shape:\", input_details[0]['shape'])\n",
    "print(\"Input Type:\", input_details[0]['dtype'])\n",
    "print(\"Output Shape:\", output_details[0]['shape'])\n",
    "print(\"Output Type:\", output_details[0]['dtype'])"
   ]
  },
  {
   "cell_type": "code",
   "execution_count": 157,
   "id": "i9pHNgML5VdD",
   "metadata": {
    "colab": {
     "base_uri": "https://localhost:8080/"
    },
    "executionInfo": {
     "elapsed": 19,
     "status": "ok",
     "timestamp": 1720258515169,
     "user": {
      "displayName": "Harsh Raj",
      "userId": "13475918194215025488"
     },
     "user_tz": -330
    },
    "id": "i9pHNgML5VdD",
    "outputId": "32cf8bd9-cee7-481b-ab10-71b2a86c0c54"
   },
   "outputs": [
    {
     "data": {
      "text/plain": [
       "dtype('float64')"
      ]
     },
     "execution_count": 157,
     "metadata": {},
     "output_type": "execute_result"
    }
   ],
   "source": [
    "x_test.dtype"
   ]
  },
  {
   "cell_type": "code",
   "execution_count": 158,
   "id": "2oGl64Rr5Vah",
   "metadata": {
    "executionInfo": {
     "elapsed": 18,
     "status": "ok",
     "timestamp": 1720258515169,
     "user": {
      "displayName": "Harsh Raj",
      "userId": "13475918194215025488"
     },
     "user_tz": -330
    },
    "id": "2oGl64Rr5Vah"
   },
   "outputs": [],
   "source": [
    "x_test_numpy = np.array(x_test, dtype=np.float32)"
   ]
  },
  {
   "cell_type": "code",
   "execution_count": 159,
   "id": "8mqUo8en5VYI",
   "metadata": {
    "colab": {
     "base_uri": "https://localhost:8080/"
    },
    "executionInfo": {
     "elapsed": 18,
     "status": "ok",
     "timestamp": 1720258515169,
     "user": {
      "displayName": "Harsh Raj",
      "userId": "13475918194215025488"
     },
     "user_tz": -330
    },
    "id": "8mqUo8en5VYI",
    "outputId": "29a57f18-5684-4f57-c850-4f4e2b5cab58"
   },
   "outputs": [
    {
     "data": {
      "text/plain": [
       "dtype('float32')"
      ]
     },
     "execution_count": 159,
     "metadata": {},
     "output_type": "execute_result"
    }
   ],
   "source": [
    "x_test_numpy.dtype"
   ]
  },
  {
   "cell_type": "code",
   "execution_count": 160,
   "id": "b6e0b9d1-63fb-4fce-82ef-51cd4c1dd845",
   "metadata": {
    "colab": {
     "base_uri": "https://localhost:8080/"
    },
    "executionInfo": {
     "elapsed": 18,
     "status": "ok",
     "timestamp": 1720258515170,
     "user": {
      "displayName": "Harsh Raj",
      "userId": "13475918194215025488"
     },
     "user_tz": -330
    },
    "id": "b6e0b9d1-63fb-4fce-82ef-51cd4c1dd845",
    "outputId": "9250e545-cf2c-4d75-f0ee-69ee3aad029f"
   },
   "outputs": [
    {
     "name": "stdout",
     "output_type": "stream",
     "text": [
      "[ 1 40 40  1]\n",
      "[1 5]\n"
     ]
    }
   ],
   "source": [
    "tflite_model_path = \"ISL_lite.tflite\"\n",
    "\n",
    "# Load the TFLite model and allocate tensors.\n",
    "interpreter = tf.lite.Interpreter(model_path=tflite_model_path)\n",
    "interpreter.allocate_tensors()\n",
    "\n",
    "# Get input and output tensors.\n",
    "input_details = interpreter.get_input_details()\n",
    "output_details = interpreter.get_output_details()\n",
    "\n",
    "input_shape = input_details[0]['shape']\n",
    "output_shape = output_details[0]['shape']\n",
    "print(input_shape)\n",
    "print(output_shape)"
   ]
  },
  {
   "cell_type": "code",
   "execution_count": 161,
   "id": "c268219b-af87-48a4-a2c5-1204d83df9b3",
   "metadata": {
    "executionInfo": {
     "elapsed": 17,
     "status": "ok",
     "timestamp": 1720258515170,
     "user": {
      "displayName": "Harsh Raj",
      "userId": "13475918194215025488"
     },
     "user_tz": -330
    },
    "id": "c268219b-af87-48a4-a2c5-1204d83df9b3"
   },
   "outputs": [],
   "source": [
    "nin = 600\n",
    "nstrt = 1500"
   ]
  },
  {
   "cell_type": "code",
   "execution_count": 162,
   "id": "c7946731-1cd7-4d3d-bdd0-1bc861b8e85c",
   "metadata": {
    "colab": {
     "base_uri": "https://localhost:8080/"
    },
    "executionInfo": {
     "elapsed": 17,
     "status": "ok",
     "timestamp": 1720258515170,
     "user": {
      "displayName": "Harsh Raj",
      "userId": "13475918194215025488"
     },
     "user_tz": -330
    },
    "id": "c7946731-1cd7-4d3d-bdd0-1bc861b8e85c",
    "outputId": "f765e4f4-18ce-4ae0-b5ca-efb631ee2511"
   },
   "outputs": [
    {
     "name": "stdout",
     "output_type": "stream",
     "text": [
      "Input Shape: [600  40  40   1]\n",
      "Input Type: <class 'numpy.float32'>\n",
      "Output Shape: [600   5]\n",
      "Output Type: <class 'numpy.float32'>\n"
     ]
    }
   ],
   "source": [
    "interpreter.resize_tensor_input(input_details[0]['index'], (nin, 40, 40,1))\n",
    "interpreter.resize_tensor_input(output_details[0]['index'], (nin, 24))\n",
    "interpreter.allocate_tensors()\n",
    "input_details = interpreter.get_input_details()\n",
    "output_details = interpreter.get_output_details()\n",
    "print(\"Input Shape:\", input_details[0]['shape'])\n",
    "print(\"Input Type:\", input_details[0]['dtype'])\n",
    "print(\"Output Shape:\", output_details[0]['shape'])\n",
    "print(\"Output Type:\", output_details[0]['dtype'])"
   ]
  },
  {
   "cell_type": "code",
   "execution_count": 163,
   "id": "91a12058-0540-4a9a-9519-62184bc84061",
   "metadata": {
    "colab": {
     "base_uri": "https://localhost:8080/"
    },
    "executionInfo": {
     "elapsed": 16,
     "status": "ok",
     "timestamp": 1720258515170,
     "user": {
      "displayName": "Harsh Raj",
      "userId": "13475918194215025488"
     },
     "user_tz": -330
    },
    "id": "91a12058-0540-4a9a-9519-62184bc84061",
    "outputId": "432b2fff-efe4-40a1-c63d-1702f9fc6cf3"
   },
   "outputs": [
    {
     "name": "stdout",
     "output_type": "stream",
     "text": [
      "Input Shape: (500, 40, 40, 1)\n",
      "Input Type: <class 'numpy.ndarray'>\n"
     ]
    }
   ],
   "source": [
    "import numpy as np\n",
    "\n",
    "# Create a placeholder for your input data. Replace this with your actual input data.\n",
    "input_data_float32 = np.random.rand(2000, 40, 40, 1).astype(np.float32) # Example: random data\n",
    "\n",
    "# Convert input data from float32 to int8 and reshape if necessary\n",
    "input_data_int8 = (input_data_float32[nstrt:(nstrt+nin), :, :, :] * 127.5).astype(np.int8)\n",
    "\n",
    "# Print the new shapes and types\n",
    "print(\"Input Shape:\", input_data_int8.shape)\n",
    "print(\"Input Type:\", type(input_data_int8))"
   ]
  },
  {
   "cell_type": "code",
   "execution_count": 164,
   "id": "6Q1oxZes1coI",
   "metadata": {
    "colab": {
     "base_uri": "https://localhost:8080/"
    },
    "executionInfo": {
     "elapsed": 15,
     "status": "ok",
     "timestamp": 1720258515170,
     "user": {
      "displayName": "Harsh Raj",
      "userId": "13475918194215025488"
     },
     "user_tz": -330
    },
    "id": "6Q1oxZes1coI",
    "outputId": "cdf1a02a-c947-4190-d5a3-c96fb7777f4a"
   },
   "outputs": [
    {
     "data": {
      "text/plain": [
       "(112, 40, 40, 1)"
      ]
     },
     "execution_count": 164,
     "metadata": {},
     "output_type": "execute_result"
    }
   ],
   "source": [
    "x_test.shape"
   ]
  },
  {
   "cell_type": "code",
   "execution_count": 165,
   "id": "lx1d8JUj2JGX",
   "metadata": {
    "executionInfo": {
     "elapsed": 791,
     "status": "ok",
     "timestamp": 1720258515947,
     "user": {
      "displayName": "Harsh Raj",
      "userId": "13475918194215025488"
     },
     "user_tz": -330
    },
    "id": "lx1d8JUj2JGX"
   },
   "outputs": [],
   "source": [
    "nin = 32\n",
    "nstrt = 0"
   ]
  },
  {
   "cell_type": "code",
   "execution_count": 166,
   "id": "hJ4Ztf3W-D5n",
   "metadata": {
    "executionInfo": {
     "elapsed": 10,
     "status": "ok",
     "timestamp": 1720258515947,
     "user": {
      "displayName": "Harsh Raj",
      "userId": "13475918194215025488"
     },
     "user_tz": -330
    },
    "id": "hJ4Ztf3W-D5n"
   },
   "outputs": [],
   "source": [
    "# Get the actual number of samples in your test data\n",
    "num_samples = x_test_numpy.shape[0]\n",
    "\n",
    "# Resize the input tensor to match the number of samples in your test data\n",
    "interpreter.resize_tensor_input(input_details[0]['index'], (num_samples, 40, 40, 1))\n",
    "interpreter.allocate_tensors()\n",
    "\n",
    "# Now set the tensor with your data\n",
    "interpreter.set_tensor(input_details[0]['index'], x_test_numpy)\n",
    "interpreter.invoke()\n"
   ]
  },
  {
   "cell_type": "code",
   "execution_count": 167,
   "id": "7d3947a0-71e3-4dd5-8e65-9103dbdf2f58",
   "metadata": {
    "colab": {
     "base_uri": "https://localhost:8080/"
    },
    "executionInfo": {
     "elapsed": 11,
     "status": "ok",
     "timestamp": 1720258515948,
     "user": {
      "displayName": "Harsh Raj",
      "userId": "13475918194215025488"
     },
     "user_tz": -330
    },
    "id": "7d3947a0-71e3-4dd5-8e65-9103dbdf2f58",
    "outputId": "aa6d9d72-da91-4fc5-b249-5e65119a69a6"
   },
   "outputs": [
    {
     "name": "stdout",
     "output_type": "stream",
     "text": [
      "0.0013592392206192017\n",
      "Prediction results shape: (112, 5)\n"
     ]
    }
   ],
   "source": [
    "from time import time\n",
    "\n",
    "# Scale the images and convert to float32\n",
    "test_imgs_numpy = np.array(x_test[nstrt:(nstrt+nin), :, :, :] * 127.5, dtype=np.float32)\n",
    "\n",
    "# Set the input tensor with the float32 data\n",
    "t1 = time()\n",
    "interpreter.set_tensor(input_details[0]['index'], x_test_numpy)  # Now the data type matches\n",
    "interpreter.invoke()\n",
    "tflite_model_predictions = interpreter.get_tensor(output_details[0]['index'])\n",
    "print((time()-t1)/nin)\n",
    "print(\"Prediction results shape:\", tflite_model_predictions.shape)\n",
    "prediction_classes = np.argmax(tflite_model_predictions, axis=1)"
   ]
  },
  {
   "cell_type": "code",
   "execution_count": 168,
   "id": "99b7c4a8-c585-4184-a891-6a47d6caf285",
   "metadata": {
    "colab": {
     "base_uri": "https://localhost:8080/"
    },
    "executionInfo": {
     "elapsed": 10,
     "status": "ok",
     "timestamp": 1720258515948,
     "user": {
      "displayName": "Harsh Raj",
      "userId": "13475918194215025488"
     },
     "user_tz": -330
    },
    "id": "99b7c4a8-c585-4184-a891-6a47d6caf285",
    "outputId": "bb61ff9b-3467-4020-a0a6-1e21d0e961a1"
   },
   "outputs": [
    {
     "name": "stdout",
     "output_type": "stream",
     "text": [
      "Test accuracy TFLITE model: 100.0 %\n"
     ]
    }
   ],
   "source": [
    "from sklearn.metrics import accuracy_score\n",
    "\n",
    "# Calculate accuracy using prediction_classes and y_test\n",
    "# Use the entire y_test array instead of slicing it\n",
    "acc = accuracy_score(prediction_classes, np.argmax(y_test, axis=1))\n",
    "\n",
    "# Print the test accuracy\n",
    "print('Test accuracy TFLITE model:', acc*100, \"%\")"
   ]
  },
  {
   "cell_type": "code",
   "execution_count": 169,
   "id": "7f081756-59ea-4cc5-a5ab-2ad549896160",
   "metadata": {
    "executionInfo": {
     "elapsed": 9,
     "status": "ok",
     "timestamp": 1720258515948,
     "user": {
      "displayName": "Harsh Raj",
      "userId": "13475918194215025488"
     },
     "user_tz": -330
    },
    "id": "7f081756-59ea-4cc5-a5ab-2ad549896160"
   },
   "outputs": [],
   "source": [
    "TF_LITE_MODEL_FLOAT_16_FILE_NAME = \"tf_lite_float_16_model.tflite\""
   ]
  },
  {
   "cell_type": "code",
   "execution_count": 170,
   "id": "ltGAIFQDAPjY",
   "metadata": {
    "executionInfo": {
     "elapsed": 1126,
     "status": "ok",
     "timestamp": 1720258517066,
     "user": {
      "displayName": "Harsh Raj",
      "userId": "13475918194215025488"
     },
     "user_tz": -330
    },
    "id": "ltGAIFQDAPjY"
   },
   "outputs": [],
   "source": [
    "tf_lite_converter = tf.lite.TFLiteConverter.from_keras_model(model)\n",
    "tf_lite_converter.optimizations = [tf.lite.Optimize.DEFAULT]\n",
    "tf_lite_converter.target_spec.supported_types = [tf.float16]\n",
    "tflite_model = tf_lite_converter.convert()"
   ]
  },
  {
   "cell_type": "code",
   "execution_count": 171,
   "id": "noa5o1ZFAQWm",
   "metadata": {
    "colab": {
     "base_uri": "https://localhost:8080/"
    },
    "executionInfo": {
     "elapsed": 12,
     "status": "ok",
     "timestamp": 1720258517066,
     "user": {
      "displayName": "Harsh Raj",
      "userId": "13475918194215025488"
     },
     "user_tz": -330
    },
    "id": "noa5o1ZFAQWm",
    "outputId": "ced23e54-9d57-4fea-9a55-dc9f16179568"
   },
   "outputs": [
    {
     "data": {
      "text/plain": [
       "190144"
      ]
     },
     "execution_count": 171,
     "metadata": {},
     "output_type": "execute_result"
    }
   ],
   "source": [
    "tflite_model_name = TF_LITE_MODEL_FLOAT_16_FILE_NAME\n",
    "open(tflite_model_name, \"wb\").write(tflite_model)"
   ]
  },
  {
   "cell_type": "code",
   "execution_count": 172,
   "id": "x9VJ2XA_AQY5",
   "metadata": {
    "colab": {
     "base_uri": "https://localhost:8080/"
    },
    "executionInfo": {
     "elapsed": 11,
     "status": "ok",
     "timestamp": 1720258517067,
     "user": {
      "displayName": "Harsh Raj",
      "userId": "13475918194215025488"
     },
     "user_tz": -330
    },
    "id": "x9VJ2XA_AQY5",
    "outputId": "7e7cd940-3279-4641-90f4-76dcce6587f8"
   },
   "outputs": [
    {
     "name": "stdout",
     "output_type": "stream",
     "text": [
      "File size: 185.688 Kilobytes\n"
     ]
    }
   ],
   "source": [
    "convert_bytes(get_file_size(TF_LITE_MODEL_FLOAT_16_FILE_NAME), \"KB\")"
   ]
  },
  {
   "cell_type": "code",
   "execution_count": 173,
   "id": "If7lrfvkAQbO",
   "metadata": {
    "executionInfo": {
     "elapsed": 10,
     "status": "ok",
     "timestamp": 1720258517067,
     "user": {
      "displayName": "Harsh Raj",
      "userId": "13475918194215025488"
     },
     "user_tz": -330
    },
    "id": "If7lrfvkAQbO"
   },
   "outputs": [],
   "source": [
    "tflite_float_16_file_size = get_file_size(TF_LITE_MODEL_FLOAT_16_FILE_NAME)"
   ]
  },
  {
   "cell_type": "code",
   "execution_count": 174,
   "id": "C35rLxyvAQdc",
   "metadata": {
    "executionInfo": {
     "elapsed": 9,
     "status": "ok",
     "timestamp": 1720258517067,
     "user": {
      "displayName": "Harsh Raj",
      "userId": "13475918194215025488"
     },
     "user_tz": -330
    },
    "id": "C35rLxyvAQdc"
   },
   "outputs": [],
   "source": [
    "TF_LITE_SIZE_QUANT_MODEL_FILE_NAME = \"tf_lite_quant_model.tflite\""
   ]
  },
  {
   "cell_type": "code",
   "execution_count": 175,
   "id": "1SmU5EF7AQft",
   "metadata": {
    "colab": {
     "base_uri": "https://localhost:8080/"
    },
    "executionInfo": {
     "elapsed": 2341,
     "status": "ok",
     "timestamp": 1720258519399,
     "user": {
      "displayName": "Harsh Raj",
      "userId": "13475918194215025488"
     },
     "user_tz": -330
    },
    "id": "1SmU5EF7AQft",
    "outputId": "746a146c-bc58-4b76-a95b-def69a78f4cb"
   },
   "outputs": [
    {
     "name": "stderr",
     "output_type": "stream",
     "text": [
      "WARNING:absl:Optimization option OPTIMIZE_FOR_SIZE is deprecated, please use optimizations=[Optimize.DEFAULT] instead.\n",
      "WARNING:absl:Optimization option OPTIMIZE_FOR_SIZE is deprecated, please use optimizations=[Optimize.DEFAULT] instead.\n",
      "WARNING:absl:Optimization option OPTIMIZE_FOR_SIZE is deprecated, please use optimizations=[Optimize.DEFAULT] instead.\n"
     ]
    }
   ],
   "source": [
    "tf_lite_converter = tf.lite.TFLiteConverter.from_keras_model(model)\n",
    "tf_lite_converter.optimizations = [tf.lite.Optimize.OPTIMIZE_FOR_SIZE]\n",
    "tflite_model = tf_lite_converter.convert()"
   ]
  },
  {
   "cell_type": "code",
   "execution_count": 176,
   "id": "UKxERRd3AQh6",
   "metadata": {
    "colab": {
     "base_uri": "https://localhost:8080/"
    },
    "executionInfo": {
     "elapsed": 25,
     "status": "ok",
     "timestamp": 1720258519399,
     "user": {
      "displayName": "Harsh Raj",
      "userId": "13475918194215025488"
     },
     "user_tz": -330
    },
    "id": "UKxERRd3AQh6",
    "outputId": "a7b51f71-e1e9-4f7e-9826-c5341f29f797"
   },
   "outputs": [
    {
     "data": {
      "text/plain": [
       "100312"
      ]
     },
     "execution_count": 176,
     "metadata": {},
     "output_type": "execute_result"
    }
   ],
   "source": [
    "tflite_model_name = TF_LITE_SIZE_QUANT_MODEL_FILE_NAME\n",
    "open(tflite_model_name, \"wb\").write(tflite_model)"
   ]
  },
  {
   "cell_type": "code",
   "execution_count": 177,
   "id": "QDM0wLSuAQj5",
   "metadata": {
    "colab": {
     "base_uri": "https://localhost:8080/"
    },
    "executionInfo": {
     "elapsed": 23,
     "status": "ok",
     "timestamp": 1720258519399,
     "user": {
      "displayName": "Harsh Raj",
      "userId": "13475918194215025488"
     },
     "user_tz": -330
    },
    "id": "QDM0wLSuAQj5",
    "outputId": "9e97a8d9-66c1-4c9e-864f-d477af3fc4a8"
   },
   "outputs": [
    {
     "name": "stdout",
     "output_type": "stream",
     "text": [
      "File size: 97.961 Kilobytes\n"
     ]
    }
   ],
   "source": [
    "convert_bytes(get_file_size(TF_LITE_SIZE_QUANT_MODEL_FILE_NAME), \"KB\")"
   ]
  },
  {
   "cell_type": "code",
   "execution_count": 178,
   "id": "GQ6XrJf6AQnU",
   "metadata": {
    "executionInfo": {
     "elapsed": 21,
     "status": "ok",
     "timestamp": 1720258519399,
     "user": {
      "displayName": "Harsh Raj",
      "userId": "13475918194215025488"
     },
     "user_tz": -330
    },
    "id": "GQ6XrJf6AQnU"
   },
   "outputs": [],
   "source": [
    "tflite_float_quant_file_size = get_file_size(TF_LITE_SIZE_QUANT_MODEL_FILE_NAME)"
   ]
  },
  {
   "cell_type": "code",
   "execution_count": 179,
   "id": "7Mp3QJTEA3ei",
   "metadata": {
    "colab": {
     "base_uri": "https://localhost:8080/"
    },
    "executionInfo": {
     "elapsed": 21,
     "status": "ok",
     "timestamp": 1720258519399,
     "user": {
      "displayName": "Harsh Raj",
      "userId": "13475918194215025488"
     },
     "user_tz": -330
    },
    "id": "7Mp3QJTEA3ei",
    "outputId": "6f945c2d-d874-4941-b923-a593dd4555d8"
   },
   "outputs": [
    {
     "name": "stdout",
     "output_type": "stream",
     "text": [
      "Input Shape: [ 1 40 40  1]\n",
      "Input Type: <class 'numpy.float32'>\n",
      "Output Shape: [1 5]\n",
      "Output Type: <class 'numpy.float32'>\n"
     ]
    }
   ],
   "source": [
    "interpreter = tf.lite.Interpreter(model_path = TF_LITE_SIZE_QUANT_MODEL_FILE_NAME)\n",
    "input_details = interpreter.get_input_details()\n",
    "output_details = interpreter.get_output_details()\n",
    "print(\"Input Shape:\", input_details[0]['shape'])\n",
    "print(\"Input Type:\", input_details[0]['dtype'])\n",
    "print(\"Output Shape:\", output_details[0]['shape'])\n",
    "print(\"Output Type:\", output_details[0]['dtype'])"
   ]
  },
  {
   "cell_type": "code",
   "execution_count": 180,
   "id": "Hd3u07KoA3jl",
   "metadata": {
    "colab": {
     "base_uri": "https://localhost:8080/"
    },
    "executionInfo": {
     "elapsed": 21,
     "status": "ok",
     "timestamp": 1720258519400,
     "user": {
      "displayName": "Harsh Raj",
      "userId": "13475918194215025488"
     },
     "user_tz": -330
    },
    "id": "Hd3u07KoA3jl",
    "outputId": "b22af201-e089-4f49-b585-8a949b8c0e4b"
   },
   "outputs": [
    {
     "name": "stdout",
     "output_type": "stream",
     "text": [
      "Input Shape: [ 1 40 40  1]\n",
      "Input Type: <class 'numpy.float32'>\n",
      "Output Shape: [1 5]\n",
      "Output Type: <class 'numpy.float32'>\n"
     ]
    }
   ],
   "source": [
    "# Correctly resize the input tensor, keeping the batch dimension\n",
    "interpreter.resize_tensor_input(input_details[0]['index'], (1, 40, 40, 1))  # Assuming 1 channel as before\n",
    "\n",
    "# Allocate tensors after resizing\n",
    "interpreter.allocate_tensors()\n",
    "\n",
    "# Get the input and output details\n",
    "input_details = interpreter.get_input_details()\n",
    "output_details = interpreter.get_output_details()\n",
    "print(\"Input Shape:\", input_details[0]['shape'])\n",
    "print(\"Input Type:\", input_details[0]['dtype'])\n",
    "print(\"Output Shape:\", output_details[0]['shape'])\n",
    "print(\"Output Type:\", output_details[0]['dtype'])"
   ]
  },
  {
   "cell_type": "code",
   "execution_count": 181,
   "id": "IO6NrVBTA3lx",
   "metadata": {
    "colab": {
     "base_uri": "https://localhost:8080/"
    },
    "executionInfo": {
     "elapsed": 20,
     "status": "ok",
     "timestamp": 1720258519400,
     "user": {
      "displayName": "Harsh Raj",
      "userId": "13475918194215025488"
     },
     "user_tz": -330
    },
    "id": "IO6NrVBTA3lx",
    "outputId": "5f4388fd-644e-437d-9752-95951faa31f0"
   },
   "outputs": [
    {
     "data": {
      "text/plain": [
       "dtype('float64')"
      ]
     },
     "execution_count": 181,
     "metadata": {},
     "output_type": "execute_result"
    }
   ],
   "source": [
    "x_test.dtype"
   ]
  },
  {
   "cell_type": "code",
   "execution_count": 182,
   "id": "46DvtvD2QRPI",
   "metadata": {
    "executionInfo": {
     "elapsed": 20,
     "status": "ok",
     "timestamp": 1720258519400,
     "user": {
      "displayName": "Harsh Raj",
      "userId": "13475918194215025488"
     },
     "user_tz": -330
    },
    "id": "46DvtvD2QRPI"
   },
   "outputs": [],
   "source": [
    "test_imgs_numpy = np.array(x_test, dtype=np.float32)"
   ]
  },
  {
   "cell_type": "code",
   "execution_count": 183,
   "id": "EwOz0s_tHXlo",
   "metadata": {
    "colab": {
     "base_uri": "https://localhost:8080/"
    },
    "executionInfo": {
     "elapsed": 19,
     "status": "ok",
     "timestamp": 1720258519400,
     "user": {
      "displayName": "Harsh Raj",
      "userId": "13475918194215025488"
     },
     "user_tz": -330
    },
    "id": "EwOz0s_tHXlo",
    "outputId": "e3846c34-9b6f-48db-f70b-f74a91846764"
   },
   "outputs": [
    {
     "data": {
      "text/plain": [
       "dtype('float32')"
      ]
     },
     "execution_count": 183,
     "metadata": {},
     "output_type": "execute_result"
    }
   ],
   "source": [
    "test_imgs_numpy.dtype"
   ]
  },
  {
   "cell_type": "code",
   "execution_count": 184,
   "id": "2_4peRtUJ1mX",
   "metadata": {
    "executionInfo": {
     "elapsed": 18,
     "status": "ok",
     "timestamp": 1720258519400,
     "user": {
      "displayName": "Harsh Raj",
      "userId": "13475918194215025488"
     },
     "user_tz": -330
    },
    "id": "2_4peRtUJ1mX"
   },
   "outputs": [],
   "source": [
    "# Get the actual number of samples in your test data\n",
    "num_samples = test_imgs_numpy.shape[0]\n",
    "\n",
    "# Resize the input tensor to match the number of samples in your test data\n",
    "interpreter.resize_tensor_input(input_details[0]['index'], (num_samples, 40, 40, 1))\n",
    "interpreter.allocate_tensors()\n",
    "\n",
    "# Now set the tensor with your data\n",
    "interpreter.set_tensor(input_details[0]['index'], x_test_numpy)\n",
    "interpreter.invoke()\n"
   ]
  },
  {
   "cell_type": "code",
   "execution_count": 185,
   "id": "19k8lujEA3oO",
   "metadata": {
    "colab": {
     "base_uri": "https://localhost:8080/"
    },
    "executionInfo": {
     "elapsed": 17,
     "status": "ok",
     "timestamp": 1720258519400,
     "user": {
      "displayName": "Harsh Raj",
      "userId": "13475918194215025488"
     },
     "user_tz": -330
    },
    "id": "19k8lujEA3oO",
    "outputId": "2d287c19-1744-4eab-a292-0051c672b0d8"
   },
   "outputs": [
    {
     "name": "stdout",
     "output_type": "stream",
     "text": [
      "Prediction results shape: (112, 5)\n"
     ]
    }
   ],
   "source": [
    "tflite_model_predictions = interpreter.get_tensor(output_details[0]['index'])\n",
    "print(\"Prediction results shape:\", tflite_model_predictions.shape)\n",
    "prediction_classes = np.argmax(tflite_model_predictions, axis=1)"
   ]
  },
  {
   "cell_type": "code",
   "execution_count": 186,
   "id": "JzR_txmxA3q4",
   "metadata": {
    "executionInfo": {
     "elapsed": 16,
     "status": "ok",
     "timestamp": 1720258519400,
     "user": {
      "displayName": "Harsh Raj",
      "userId": "13475918194215025488"
     },
     "user_tz": -330
    },
    "id": "JzR_txmxA3q4"
   },
   "outputs": [],
   "source": [
    "acc = accuracy_score(prediction_classes, np.argmax(y_test, axis=1))"
   ]
  },
  {
   "cell_type": "code",
   "execution_count": 187,
   "id": "ngqsNIS4A3tX",
   "metadata": {
    "colab": {
     "base_uri": "https://localhost:8080/"
    },
    "executionInfo": {
     "elapsed": 16,
     "status": "ok",
     "timestamp": 1720258519401,
     "user": {
      "displayName": "Harsh Raj",
      "userId": "13475918194215025488"
     },
     "user_tz": -330
    },
    "id": "ngqsNIS4A3tX",
    "outputId": "49b0f513-2766-44a0-f70a-75b4bdbb2fcd"
   },
   "outputs": [
    {
     "name": "stdout",
     "output_type": "stream",
     "text": [
      "Test accuracy TFLITE Quantized model is 100.0%\n"
     ]
    }
   ],
   "source": [
    "print('Test accuracy TFLITE Quantized model is {}%'.format(round(100*acc, 2)))"
   ]
  },
  {
   "cell_type": "markdown",
   "id": "CyQWzM7nO4Fa",
   "metadata": {
    "id": "CyQWzM7nO4Fa"
   },
   "source": [
    "## Deployment\n"
   ]
  },
  {
   "cell_type": "markdown",
   "id": "eGLJyD8XWSZD",
   "metadata": {
    "id": "eGLJyD8XWSZD"
   },
   "source": [
    "\n",
    "\n",
    "```\n",
    "# Load the TFLite model and allocate tensors.\n",
    "interpreter = tf.lite.Interpreter(model_path=TF_LITE_SIZE_QUANT_MODEL_FILE_NAME)\n",
    "interpreter.allocate_tensors()\n",
    "\n",
    "# Get input and output tensors.\n",
    "input_details = interpreter.get_input_details()\n",
    "output_details = interpreter.get_output_details()\n",
    "\n",
    "# Read the image file\n",
    "image_path = \"/content/drive/MyDrive/Project/Indian Sign Language/data/d/D10.jpg\"\n",
    "image_data = tf.io.read_file(image_path)\n",
    "image = tf.image.decode_jpeg(image_data, channels=1)\n",
    "\n",
    "# Resize and normalize the image\n",
    "image = tf.image.resize(image, [40, 40])\n",
    "image = tf.cast(image, tf.float32) / 127.5 - 1.0\n",
    "\n",
    "# Add a batch dimension\n",
    "image = tf.expand_dims(image, axis=0)\n",
    "\n",
    "# Set the input tensor\n",
    "interpreter.set_tensor(input_details[0]['index'], image)\n",
    "\n",
    "# Run the interpreter\n",
    "interpreter.invoke()\n",
    "\n",
    "# Get the output tensor\n",
    "output_data = interpreter.get_tensor(output_details[0]['index'])\n",
    "\n",
    "# Get the predicted class\n",
    "predicted_class = np.argmax(output_data)\n",
    "\n",
    "if predicted_class == 1:\n",
    "    predicted_gesture = \"A\"\n",
    "elif predicted_class == 2:\n",
    "    predicted_gesture = \"B\"\n",
    "elif predicted_class == 3:\n",
    "    predicted_gesture = \"C\"\n",
    "elif predicted_class == 4:\n",
    "    predicted_gesture = \"D\"\n",
    "elif predicted_class == 0:\n",
    "    predicted_gesture = \"Empty\"\n",
    "\n",
    "# Print the predicted class\n",
    "print(\"Predicted gesture:\", predicted_gesture)\n",
    "\n",
    "```\n",
    "\n"
   ]
  },
  {
   "cell_type": "markdown",
   "id": "linPd49kxGkc",
   "metadata": {
    "id": "linPd49kxGkc"
   },
   "source": [
    "\n",
    "\n",
    "```\n",
    "import cv2\n",
    "import numpy as np\n",
    "import tensorflow as tf\n",
    "\n",
    "# Load the TFLite model\n",
    "interpreter = tf.lite.Interpreter(model_path=\"/home/harsh/Desktop/Task2/temp_codes/tf_lite_quant_model.tflite\")\n",
    "interpreter.allocate_tensors()\n",
    "\n",
    "# Get input and output tensors\n",
    "input_details = interpreter.get_input_details()\n",
    "output_details = interpreter.get_output_details()\n",
    "\n",
    "# Define the video capture object\n",
    "vc = cv2.VideoCapture(0)\n",
    "\n",
    "# Replace with your ESP32-CAM stream URL\n",
    "# stream_url = 'http://192.168.129.123:81/stream'\n",
    "\n",
    "# Open a connection to the IP camera using OpenCV VideoCapture\n",
    "# vc = cv2.VideoCapture(stream_url)\n",
    "\n",
    "# Loop until the user presses the 'q' key\n",
    "while True:\n",
    "    # Capture a frame from the webcam\n",
    "    ret, frame = vc.read()\n",
    "    if not ret:\n",
    "        print(\"Failed to capture image\")\n",
    "        break\n",
    "\n",
    "    # Convert the frame to grayscale\n",
    "    gray_frame = cv2.cvtColor(frame, cv2.COLOR_BGR2GRAY)\n",
    "\n",
    "    # Resize the frame to 40x40\n",
    "    resized_frame = cv2.resize(gray_frame, (100, 100))\n",
    "\n",
    "    # Normalize the pixel values\n",
    "    normalized_frame = resized_frame / 127.5 - 1.0\n",
    "\n",
    "    # Add a batch dimension and ensure it has the right shape\n",
    "    input_data = np.expand_dims(normalized_frame, axis=(0, -1)).astype(np.float32)\n",
    "\n",
    "    # Set the input tensor\n",
    "    interpreter.set_tensor(input_details[0]['index'], input_data)\n",
    "\n",
    "    # Run the interpreter\n",
    "    interpreter.invoke()\n",
    "\n",
    "    # Get the output tensor\n",
    "    output_data = interpreter.get_tensor(output_details[0]['index'])\n",
    "\n",
    "    # Get the predicted class\n",
    "    predicted_class = np.argmax(output_data)\n",
    "\n",
    "    if predicted_class == 1:\n",
    "        predicted_gesture = \"A\"\n",
    "    elif predicted_class == 2:\n",
    "        predicted_gesture = \"B\"\n",
    "    elif predicted_class == 3:\n",
    "        predicted_gesture = \"C\"\n",
    "    elif predicted_class == 4:\n",
    "        predicted_gesture = \"D\"\n",
    "    elif predicted_class == 5:\n",
    "        predicted_gesture = \"E\"\n",
    "    elif predicted_class == 6:\n",
    "        predicted_gesture = \"F\"\n",
    "    elif predicted_class == 7:\n",
    "        predicted_gesture = \"G\"\n",
    "    elif predicted_class == 8:\n",
    "        predicted_gesture = \"H\"\n",
    "    elif predicted_class == 9:\n",
    "        predicted_gesture = \"I\"\n",
    "    elif predicted_class == 10:\n",
    "        predicted_gesture = \"J\"\n",
    "    elif predicted_class == 11:\n",
    "        predicted_gesture = \"K\"\n",
    "    elif predicted_class == 12:\n",
    "        predicted_gesture = \"L\"\n",
    "    elif predicted_class == 13:\n",
    "        predicted_gesture = \"M\"\n",
    "    elif predicted_class == 14:\n",
    "        predicted_gesture = \"N\"\n",
    "    elif predicted_class == 15:\n",
    "        predicted_gesture = \"O\"\n",
    "    elif predicted_class == 16:\n",
    "        predicted_gesture = \"P\"\n",
    "    elif predicted_class == 17:\n",
    "        predicted_gesture = \"Q\"\n",
    "    elif predicted_class == 18:\n",
    "        predicted_gesture = \"R\"\n",
    "    elif predicted_class == 19:\n",
    "        predicted_gesture = \"S\"\n",
    "    elif predicted_class == 20:\n",
    "        predicted_gesture = \"T\"\n",
    "    elif predicted_class == 21:\n",
    "        predicted_gesture = \"U\"\n",
    "    elif predicted_class == 22:\n",
    "        predicted_gesture = \"V\"\n",
    "    elif predicted_class == 23:\n",
    "        predicted_gesture = \"W\"\n",
    "    elif predicted_class == 24:\n",
    "        predicted_gesture = \"X\"\n",
    "    elif predicted_class == 25:\n",
    "        predicted_gesture = \"Y\"\n",
    "    elif predicted_class == 26:\n",
    "        predicted_gesture = \"Z\"\n",
    "    elif predicted_class == 0:\n",
    "        predicted_gesture = 'empty'\n",
    "\n",
    "    # Print the predicted class\n",
    "    print(\"Predicted gesture:\", predicted_gesture)\n",
    "    \n",
    "\n",
    "    # Display the frame\n",
    "    cv2.imshow('Webcam_Gesture_Recognition', gray_frame)\n",
    "\n",
    "    # Press 'q' to exit\n",
    "    if cv2.waitKey(1) & 0xFF == ord('q'):\n",
    "        break\n",
    "\n",
    "# Release the video capture object\n",
    "vc.release()\n",
    "\n",
    "# Close all windows\n",
    "cv2.destroyAllWindows()\n",
    "\n",
    "```\n",
    "\n"
   ]
  }
 ],
 "metadata": {
  "accelerator": "GPU",
  "colab": {
   "collapsed_sections": [
    "FSNpz3TzcS0H",
    "XZKW9xJT75wW",
    "vVJPcHat9Bm8",
    "YjTEsSBJbZL6",
    "hz9T9Is30LLK",
    "_ydKy7e_8cfu",
    "uOhwyEKbUL5U",
    "3rFpGMalIbFx",
    "fSkPjjfwIu6k",
    "2GeQm5sNI5Y_",
    "Hm8XnZEtaPoh",
    "giKC5uiwI_ds",
    "wARxlWKqJwrj",
    "jgOlQJ1kLagj",
    "t1VDCKDTM9pk",
    "mZ6fvKXvN2fi",
    "c0OjcUldbh6L",
    "EbIPndnfOjxo",
    "CyQWzM7nO4Fa"
   ],
   "gpuType": "T4",
   "provenance": [],
   "toc_visible": true
  },
  "kernelspec": {
   "display_name": "Python 3 (ipykernel)",
   "language": "python",
   "name": "python3"
  },
  "language_info": {
   "codemirror_mode": {
    "name": "ipython",
    "version": 3
   },
   "file_extension": ".py",
   "mimetype": "text/x-python",
   "name": "python",
   "nbconvert_exporter": "python",
   "pygments_lexer": "ipython3",
   "version": "3.10.12"
  }
 },
 "nbformat": 4,
 "nbformat_minor": 5
}
